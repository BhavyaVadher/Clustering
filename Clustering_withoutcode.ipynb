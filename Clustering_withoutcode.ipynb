{
  "cells": [
    {
      "cell_type": "markdown",
      "metadata": {
        "id": "5JsfoNrzjps1"
      },
      "source": [
        "# <center><u>Clustering</u></center>"
      ]
    },
    {
      "cell_type": "markdown",
      "metadata": {
        "id": "jlXXNSb_jps5"
      },
      "source": [
        "\n",
        "![image-3.png](attachment:image-3.png)\n",
        "\n",
        "Clustering is the task of dividing the population or data points into a number of groups such that data points in the same groups are more similar to other data points in the same group and dissimilar to the data points in other groups. It is basically a collection of objects on the basis of similarity and dissimilarity between them.\n",
        "\n",
        "\n",
        "Clustering is very much important as it determines the intrinsic grouping among the unlabeled data present. There are no criteria for a good clustering. It depends on the user, what is the criteria they may use which satisfy their need\n",
        "\n",
        "Clustering techniques apply when there is no class to be predicted but rather when the instances are to be divided into natural groups.\n",
        "\n",
        "We will learn various Clustering methods in this assignment, like:\n",
        "\n",
        "1. Agglomerative Hierarchical Clustering\n",
        "2. BIRCH\n",
        "3. DBSCAN\n",
        "4. K-Means\n",
        "5. Mini-Batch K-Means\n",
        "6. Mean Shift\n",
        "7. OPTICS\n",
        "8. Spectral Clustering\n",
        "9. Gaussian Mixture Model\n",
        "\n",
        "So be excited to rock this assignment! :)\n",
        "\n",
        "\n",
        "\n",
        "\n",
        "**Problem Statement :**\n",
        "\n",
        "Online retail is a transnational data set which contains all the transactions occurring between 01/12/2010 and 09/12/2011 for a UK-based and registered non-store online retail.The company mainly sells unique all-occasion gifts. Many customers of the company are wholesalers.\n",
        "\n",
        "*Note : The dataset is provided in your Canvas Account\n",
        "\n",
        "We will be using the online reatil transactional dataset to build a RFM (R(Recency), F(Frequency), M(Monetary)) clustering and choose the best set of customers.\n",
        "\n",
        "We are providing you one intro video on gist of unsupervised learning, so watch below video:"
      ]
    },
    {
      "cell_type": "markdown",
      "metadata": {
        "id": "s8PQbdSAwKnJ"
      },
      "source": [
        "# **`WATCH VIDEOS IN THE PORTAL`**\n",
        "\n",
        "## **`Watch Video 1 :  Unsupervised Learning Introduction`**"
      ]
    },
    {
      "cell_type": "markdown",
      "metadata": {
        "id": "oXOU003myK7O"
      },
      "source": [
        "## **`Watch Video 2: Unsupervised Practical`**\n",
        "### **`Dataset used :`**https://drive.google.com/file/d/1j_-nbLNoCO4BGoNMqqSZ4rI3UnvG9G50/view?usp=sharing "
      ]
    },
    {
      "cell_type": "markdown",
      "metadata": {
        "id": "mtLTyRR0kG2u"
      },
      "source": [
        "### Importing Basic Library"
      ]
    },
    {
      "cell_type": "code",
      "execution_count": 1,
      "metadata": {
        "id": "KkCCPvuZjps7"
      },
      "outputs": [],
      "source": [
        "# import important library'\n",
        "\n",
        "#Importing Libraries\n",
        "import pandas as pd\n",
        "\n",
        "# For Visualisation\n",
        "import matplotlib.pyplot as plt\n",
        "import seaborn as sns\n",
        "%matplotlib inline\n",
        "\n",
        "# To Scale our data\n",
        "from sklearn.preprocessing import scale\n"
      ]
    },
    {
      "cell_type": "markdown",
      "metadata": {
        "id": "4ZAvv9objps8"
      },
      "source": [
        "## Data preparation\n",
        "\n",
        "<p style='text-align: right;'> 10 points</p>\n",
        "\n",
        "\n",
        "### Reading the Data Set"
      ]
    },
    {
      "cell_type": "code",
      "execution_count": 2,
      "metadata": {
        "colab": {
          "base_uri": "https://localhost:8080/",
          "height": 206
        },
        "id": "3k7NF09Wjps8",
        "outputId": "c19a4006-f440-418b-c021-72066d2db7fa"
      },
      "outputs": [
        {
          "data": {
            "text/html": [
              "<div>\n",
              "<style scoped>\n",
              "    .dataframe tbody tr th:only-of-type {\n",
              "        vertical-align: middle;\n",
              "    }\n",
              "\n",
              "    .dataframe tbody tr th {\n",
              "        vertical-align: top;\n",
              "    }\n",
              "\n",
              "    .dataframe thead th {\n",
              "        text-align: right;\n",
              "    }\n",
              "</style>\n",
              "<table border=\"1\" class=\"dataframe\">\n",
              "  <thead>\n",
              "    <tr style=\"text-align: right;\">\n",
              "      <th></th>\n",
              "      <th>InvoiceNo</th>\n",
              "      <th>StockCode</th>\n",
              "      <th>Description</th>\n",
              "      <th>Quantity</th>\n",
              "      <th>InvoiceDate</th>\n",
              "      <th>UnitPrice</th>\n",
              "      <th>CustomerID</th>\n",
              "      <th>Country</th>\n",
              "    </tr>\n",
              "  </thead>\n",
              "  <tbody>\n",
              "    <tr>\n",
              "      <th>0</th>\n",
              "      <td>536365</td>\n",
              "      <td>85123A</td>\n",
              "      <td>WHITE HANGING HEART T-LIGHT HOLDER</td>\n",
              "      <td>6</td>\n",
              "      <td>01-12-2010 08:26</td>\n",
              "      <td>2.55</td>\n",
              "      <td>17850.0</td>\n",
              "      <td>United Kingdom</td>\n",
              "    </tr>\n",
              "    <tr>\n",
              "      <th>1</th>\n",
              "      <td>536365</td>\n",
              "      <td>71053</td>\n",
              "      <td>WHITE METAL LANTERN</td>\n",
              "      <td>6</td>\n",
              "      <td>01-12-2010 08:26</td>\n",
              "      <td>3.39</td>\n",
              "      <td>17850.0</td>\n",
              "      <td>United Kingdom</td>\n",
              "    </tr>\n",
              "    <tr>\n",
              "      <th>2</th>\n",
              "      <td>536365</td>\n",
              "      <td>84406B</td>\n",
              "      <td>CREAM CUPID HEARTS COAT HANGER</td>\n",
              "      <td>8</td>\n",
              "      <td>01-12-2010 08:26</td>\n",
              "      <td>2.75</td>\n",
              "      <td>17850.0</td>\n",
              "      <td>United Kingdom</td>\n",
              "    </tr>\n",
              "    <tr>\n",
              "      <th>3</th>\n",
              "      <td>536365</td>\n",
              "      <td>84029G</td>\n",
              "      <td>KNITTED UNION FLAG HOT WATER BOTTLE</td>\n",
              "      <td>6</td>\n",
              "      <td>01-12-2010 08:26</td>\n",
              "      <td>3.39</td>\n",
              "      <td>17850.0</td>\n",
              "      <td>United Kingdom</td>\n",
              "    </tr>\n",
              "    <tr>\n",
              "      <th>4</th>\n",
              "      <td>536365</td>\n",
              "      <td>84029E</td>\n",
              "      <td>RED WOOLLY HOTTIE WHITE HEART.</td>\n",
              "      <td>6</td>\n",
              "      <td>01-12-2010 08:26</td>\n",
              "      <td>3.39</td>\n",
              "      <td>17850.0</td>\n",
              "      <td>United Kingdom</td>\n",
              "    </tr>\n",
              "  </tbody>\n",
              "</table>\n",
              "</div>"
            ],
            "text/plain": [
              "  InvoiceNo StockCode                          Description  Quantity  \\\n",
              "0    536365    85123A   WHITE HANGING HEART T-LIGHT HOLDER         6   \n",
              "1    536365     71053                  WHITE METAL LANTERN         6   \n",
              "2    536365    84406B       CREAM CUPID HEARTS COAT HANGER         8   \n",
              "3    536365    84029G  KNITTED UNION FLAG HOT WATER BOTTLE         6   \n",
              "4    536365    84029E       RED WOOLLY HOTTIE WHITE HEART.         6   \n",
              "\n",
              "        InvoiceDate  UnitPrice  CustomerID         Country  \n",
              "0  01-12-2010 08:26       2.55     17850.0  United Kingdom  \n",
              "1  01-12-2010 08:26       3.39     17850.0  United Kingdom  \n",
              "2  01-12-2010 08:26       2.75     17850.0  United Kingdom  \n",
              "3  01-12-2010 08:26       3.39     17850.0  United Kingdom  \n",
              "4  01-12-2010 08:26       3.39     17850.0  United Kingdom  "
            ]
          },
          "execution_count": 2,
          "metadata": {},
          "output_type": "execute_result"
        }
      ],
      "source": [
        "#reading Dataset: specify sepearted by comma, encoded by ISO-8859-1 and header is 0\n",
        "retail = pd.read_csv('Online Retail.csv', sep=',',encoding='ISO-8859-1',header=0)\n",
        "\n",
        "#print retil head\n",
        "retail.head()\n"
      ]
    },
    {
      "cell_type": "code",
      "execution_count": 3,
      "metadata": {
        "id": "xFhQPTByjps9"
      },
      "outputs": [],
      "source": [
        "# parse date into a format like \"d-m-Y H:M\"\n",
        "retail['InvoiceDate']=pd.to_datetime(retail['InvoiceDate'],format='%d-%m-%Y %H:%M')"
      ]
    },
    {
      "cell_type": "markdown",
      "metadata": {
        "id": "FHT3aO8Ujps-"
      },
      "source": [
        "#### Sanity Check\n"
      ]
    },
    {
      "cell_type": "code",
      "execution_count": 4,
      "metadata": {
        "colab": {
          "base_uri": "https://localhost:8080/"
        },
        "id": "W6Xoe9FMjps-",
        "outputId": "95cbd622-9c02-4017-ff96-023ae01ba015"
      },
      "outputs": [
        {
          "name": "stdout",
          "output_type": "stream",
          "text": [
            "<class 'pandas.core.frame.DataFrame'>\n",
            "RangeIndex: 541909 entries, 0 to 541908\n",
            "Data columns (total 8 columns):\n",
            " #   Column       Non-Null Count   Dtype         \n",
            "---  ------       --------------   -----         \n",
            " 0   InvoiceNo    541909 non-null  object        \n",
            " 1   StockCode    541909 non-null  object        \n",
            " 2   Description  540455 non-null  object        \n",
            " 3   Quantity     541909 non-null  int64         \n",
            " 4   InvoiceDate  541909 non-null  datetime64[ns]\n",
            " 5   UnitPrice    541909 non-null  float64       \n",
            " 6   CustomerID   406829 non-null  float64       \n",
            " 7   Country      541909 non-null  object        \n",
            "dtypes: datetime64[ns](1), float64(2), int64(1), object(4)\n",
            "memory usage: 33.1+ MB\n"
          ]
        }
      ],
      "source": [
        "# print dataset shape\n",
        "retail.shape\n",
        "# print description of dataset \n",
        "retail.describe()\n",
        "\n",
        "# Print basic datatype info on dataset\n",
        "retail.info()\n",
        "\n"
      ]
    },
    {
      "cell_type": "markdown",
      "metadata": {
        "id": "AMm05jyNjps_"
      },
      "source": [
        "##### Null value Handling\n"
      ]
    },
    {
      "cell_type": "code",
      "execution_count": 5,
      "metadata": {
        "colab": {
          "base_uri": "https://localhost:8080/"
        },
        "id": "dAqKzestjps_",
        "outputId": "fddf80e0-5909-424e-fa10-34d50cc6150a"
      },
      "outputs": [
        {
          "data": {
            "text/plain": [
              "InvoiceNo       0.000000\n",
              "StockCode       0.000000\n",
              "Description     0.268311\n",
              "Quantity        0.000000\n",
              "InvoiceDate     0.000000\n",
              "UnitPrice       0.000000\n",
              "CustomerID     24.926694\n",
              "Country         0.000000\n",
              "dtype: float64"
            ]
          },
          "execution_count": 5,
          "metadata": {},
          "output_type": "execute_result"
        }
      ],
      "source": [
        "#print percentage of null values in each column\n",
        "retail.isnull().sum()*100/retail.shape[0]"
      ]
    },
    {
      "cell_type": "code",
      "execution_count": 6,
      "metadata": {
        "id": "vaI3W7w7jps_"
      },
      "outputs": [],
      "source": [
        "#dropping the na cells from retail data\n",
        "order_wise = retail.dropna()\n"
      ]
    },
    {
      "cell_type": "code",
      "execution_count": 7,
      "metadata": {
        "colab": {
          "base_uri": "https://localhost:8080/"
        },
        "id": "S_rw3763jptA",
        "outputId": "c68b5cb9-181f-48f3-980c-4d0908e8cb14"
      },
      "outputs": [
        {
          "data": {
            "text/plain": [
              "InvoiceNo      0\n",
              "StockCode      0\n",
              "Description    0\n",
              "Quantity       0\n",
              "InvoiceDate    0\n",
              "UnitPrice      0\n",
              "CustomerID     0\n",
              "Country        0\n",
              "dtype: int64"
            ]
          },
          "execution_count": 7,
          "metadata": {},
          "output_type": "execute_result"
        }
      ],
      "source": [
        "#Sanity check for null values\n",
        "order_wise.isnull().sum()\n",
        "\n"
      ]
    },
    {
      "cell_type": "markdown",
      "metadata": {
        "id": "KkcbNiTyjptA"
      },
      "source": [
        "### RFM implementation\n",
        "\n",
        "Extracting R(Recency), F(Frequency), M(Monetary) columns form the above data\n",
        "\n"
      ]
    },
    {
      "cell_type": "code",
      "execution_count": 8,
      "metadata": {
        "colab": {
          "base_uri": "https://localhost:8080/",
          "height": 206
        },
        "id": "bLnB-sE-jptA",
        "outputId": "e363370f-5ead-4eac-f5bf-2b20880e248c"
      },
      "outputs": [
        {
          "data": {
            "text/html": [
              "<div>\n",
              "<style scoped>\n",
              "    .dataframe tbody tr th:only-of-type {\n",
              "        vertical-align: middle;\n",
              "    }\n",
              "\n",
              "    .dataframe tbody tr th {\n",
              "        vertical-align: top;\n",
              "    }\n",
              "\n",
              "    .dataframe thead th {\n",
              "        text-align: right;\n",
              "    }\n",
              "</style>\n",
              "<table border=\"1\" class=\"dataframe\">\n",
              "  <thead>\n",
              "    <tr style=\"text-align: right;\">\n",
              "      <th></th>\n",
              "      <th>Amount</th>\n",
              "    </tr>\n",
              "  </thead>\n",
              "  <tbody>\n",
              "    <tr>\n",
              "      <th>0</th>\n",
              "      <td>15.30</td>\n",
              "    </tr>\n",
              "    <tr>\n",
              "      <th>1</th>\n",
              "      <td>20.34</td>\n",
              "    </tr>\n",
              "    <tr>\n",
              "      <th>2</th>\n",
              "      <td>22.00</td>\n",
              "    </tr>\n",
              "    <tr>\n",
              "      <th>3</th>\n",
              "      <td>20.34</td>\n",
              "    </tr>\n",
              "    <tr>\n",
              "      <th>4</th>\n",
              "      <td>20.34</td>\n",
              "    </tr>\n",
              "  </tbody>\n",
              "</table>\n",
              "</div>"
            ],
            "text/plain": [
              "   Amount\n",
              "0   15.30\n",
              "1   20.34\n",
              "2   22.00\n",
              "3   20.34\n",
              "4   20.34"
            ]
          },
          "execution_count": 8,
          "metadata": {},
          "output_type": "execute_result"
        }
      ],
      "source": [
        "# Extracting amount by multiplying quantity and unit price and saving the data into amount variable.\n",
        "amount  = pd.DataFrame(order_wise.Quantity * order_wise.UnitPrice,columns=['Amount'])\n",
        "\n",
        "#merging amount in order_wise\n",
        "order_wise = pd.concat(objs=[order_wise,amount],axis=1,ignore_index=False)\n",
        "\n",
        "\n",
        "\n",
        "#print head of amount \n",
        "amount.head()\n",
        "\n",
        "\n"
      ]
    },
    {
      "cell_type": "markdown",
      "metadata": {
        "id": "WVhqRZUqjptB"
      },
      "source": [
        "#### Monetary Value"
      ]
    },
    {
      "cell_type": "code",
      "execution_count": 9,
      "metadata": {
        "colab": {
          "base_uri": "https://localhost:8080/",
          "height": 206
        },
        "id": "P5Y8OfSgjptB",
        "outputId": "f1f04bfa-a00a-45d8-e247-4f83cf6d8390"
      },
      "outputs": [
        {
          "data": {
            "text/html": [
              "<div>\n",
              "<style scoped>\n",
              "    .dataframe tbody tr th:only-of-type {\n",
              "        vertical-align: middle;\n",
              "    }\n",
              "\n",
              "    .dataframe tbody tr th {\n",
              "        vertical-align: top;\n",
              "    }\n",
              "\n",
              "    .dataframe thead th {\n",
              "        text-align: right;\n",
              "    }\n",
              "</style>\n",
              "<table border=\"1\" class=\"dataframe\">\n",
              "  <thead>\n",
              "    <tr style=\"text-align: right;\">\n",
              "      <th></th>\n",
              "      <th>CustomerID</th>\n",
              "      <th>Amount</th>\n",
              "    </tr>\n",
              "  </thead>\n",
              "  <tbody>\n",
              "    <tr>\n",
              "      <th>0</th>\n",
              "      <td>12346.0</td>\n",
              "      <td>0.00</td>\n",
              "    </tr>\n",
              "    <tr>\n",
              "      <th>1</th>\n",
              "      <td>12347.0</td>\n",
              "      <td>4310.00</td>\n",
              "    </tr>\n",
              "    <tr>\n",
              "      <th>2</th>\n",
              "      <td>12348.0</td>\n",
              "      <td>1797.24</td>\n",
              "    </tr>\n",
              "    <tr>\n",
              "      <th>3</th>\n",
              "      <td>12349.0</td>\n",
              "      <td>1757.55</td>\n",
              "    </tr>\n",
              "    <tr>\n",
              "      <th>4</th>\n",
              "      <td>12350.0</td>\n",
              "      <td>334.40</td>\n",
              "    </tr>\n",
              "  </tbody>\n",
              "</table>\n",
              "</div>"
            ],
            "text/plain": [
              "   CustomerID   Amount\n",
              "0     12346.0     0.00\n",
              "1     12347.0  4310.00\n",
              "2     12348.0  1797.24\n",
              "3     12349.0  1757.55\n",
              "4     12350.0   334.40"
            ]
          },
          "execution_count": 9,
          "metadata": {},
          "output_type": "execute_result"
        }
      ],
      "source": [
        "# Finding total amount spent per customer\n",
        "monetary = order_wise.groupby('CustomerID').Amount.sum()\n",
        "\n",
        "\n",
        "#reset index of monetory \n",
        "\n",
        "monetary = monetary.reset_index()\n",
        "\n",
        "\n",
        "#print monetary head\n",
        "monetary.head()\n"
      ]
    },
    {
      "cell_type": "markdown",
      "metadata": {
        "id": "oQuTZiOgjptB"
      },
      "source": [
        "Note: If in the above result you get a column with name level_1, run the below code , else ignore it and keep moving.\n",
        "\n",
        "`monetary.drop(['level_1'], axis = 1, inplace = True)\n",
        "monetary.head()`\n",
        "\n",
        "#### Frequency Value"
      ]
    },
    {
      "cell_type": "code",
      "execution_count": 10,
      "metadata": {
        "id": "ZyTwQOxfjptB"
      },
      "outputs": [],
      "source": [
        "#Extract Frequency function by reading just 'CustomerID' and 'InvoiceNo' form order_wise\n",
        "frequency = order_wise[['CustomerID','InvoiceNo']]\n"
      ]
    },
    {
      "cell_type": "code",
      "execution_count": 12,
      "metadata": {
        "colab": {
          "base_uri": "https://localhost:8080/",
          "height": 206
        },
        "id": "Cjqc_bbajptB",
        "outputId": "73201a77-5687-4bd2-ea6c-acaa734503db"
      },
      "outputs": [
        {
          "data": {
            "text/html": [
              "<div>\n",
              "<style scoped>\n",
              "    .dataframe tbody tr th:only-of-type {\n",
              "        vertical-align: middle;\n",
              "    }\n",
              "\n",
              "    .dataframe tbody tr th {\n",
              "        vertical-align: top;\n",
              "    }\n",
              "\n",
              "    .dataframe thead th {\n",
              "        text-align: right;\n",
              "    }\n",
              "</style>\n",
              "<table border=\"1\" class=\"dataframe\">\n",
              "  <thead>\n",
              "    <tr style=\"text-align: right;\">\n",
              "      <th></th>\n",
              "      <th>CustomerID</th>\n",
              "      <th>Frequency</th>\n",
              "    </tr>\n",
              "  </thead>\n",
              "  <tbody>\n",
              "    <tr>\n",
              "      <th>0</th>\n",
              "      <td>12346.0</td>\n",
              "      <td>2</td>\n",
              "    </tr>\n",
              "    <tr>\n",
              "      <th>1</th>\n",
              "      <td>12347.0</td>\n",
              "      <td>182</td>\n",
              "    </tr>\n",
              "    <tr>\n",
              "      <th>2</th>\n",
              "      <td>12348.0</td>\n",
              "      <td>31</td>\n",
              "    </tr>\n",
              "    <tr>\n",
              "      <th>3</th>\n",
              "      <td>12349.0</td>\n",
              "      <td>73</td>\n",
              "    </tr>\n",
              "    <tr>\n",
              "      <th>4</th>\n",
              "      <td>12350.0</td>\n",
              "      <td>17</td>\n",
              "    </tr>\n",
              "  </tbody>\n",
              "</table>\n",
              "</div>"
            ],
            "text/plain": [
              "   CustomerID  Frequency\n",
              "0     12346.0          2\n",
              "1     12347.0        182\n",
              "2     12348.0         31\n",
              "3     12349.0         73\n",
              "4     12350.0         17"
            ]
          },
          "execution_count": 12,
          "metadata": {},
          "output_type": "execute_result"
        }
      ],
      "source": [
        "# Getting the count of orders made by each customer based on customer ID in frequency dataframe\n",
        "k = frequency.groupby('CustomerID').InvoiceNo.count()\n",
        "\n",
        "\n",
        "#save k in a dataframe\n",
        "k = pd.DataFrame(k)\n",
        "\n",
        "\n",
        "#reset index of k\n",
        "k = k.reset_index()\n",
        "\n",
        "\n",
        "#name columns of k as \"CustomerID\" and \"Frequency\"\n",
        "k.columns = ['CustomerID','Frequency']\n",
        "\n",
        "\n",
        "#print head of k\n",
        "k.head()\n"
      ]
    },
    {
      "cell_type": "markdown",
      "metadata": {
        "id": "ojJZ-EFgjptC"
      },
      "source": [
        "##### creating master dataset\n",
        "\n"
      ]
    },
    {
      "cell_type": "code",
      "execution_count": 13,
      "metadata": {
        "colab": {
          "base_uri": "https://localhost:8080/",
          "height": 206
        },
        "id": "ppVpw4gGjptC",
        "outputId": "934d2172-4b85-4720-8221-95bf951e4931"
      },
      "outputs": [
        {
          "data": {
            "text/html": [
              "<div>\n",
              "<style scoped>\n",
              "    .dataframe tbody tr th:only-of-type {\n",
              "        vertical-align: middle;\n",
              "    }\n",
              "\n",
              "    .dataframe tbody tr th {\n",
              "        vertical-align: top;\n",
              "    }\n",
              "\n",
              "    .dataframe thead th {\n",
              "        text-align: right;\n",
              "    }\n",
              "</style>\n",
              "<table border=\"1\" class=\"dataframe\">\n",
              "  <thead>\n",
              "    <tr style=\"text-align: right;\">\n",
              "      <th></th>\n",
              "      <th>CustomerID</th>\n",
              "      <th>Amount</th>\n",
              "      <th>Frequency</th>\n",
              "    </tr>\n",
              "  </thead>\n",
              "  <tbody>\n",
              "    <tr>\n",
              "      <th>0</th>\n",
              "      <td>12346.0</td>\n",
              "      <td>0.00</td>\n",
              "      <td>2</td>\n",
              "    </tr>\n",
              "    <tr>\n",
              "      <th>1</th>\n",
              "      <td>12347.0</td>\n",
              "      <td>4310.00</td>\n",
              "      <td>182</td>\n",
              "    </tr>\n",
              "    <tr>\n",
              "      <th>2</th>\n",
              "      <td>12348.0</td>\n",
              "      <td>1797.24</td>\n",
              "      <td>31</td>\n",
              "    </tr>\n",
              "    <tr>\n",
              "      <th>3</th>\n",
              "      <td>12349.0</td>\n",
              "      <td>1757.55</td>\n",
              "      <td>73</td>\n",
              "    </tr>\n",
              "    <tr>\n",
              "      <th>4</th>\n",
              "      <td>12350.0</td>\n",
              "      <td>334.40</td>\n",
              "      <td>17</td>\n",
              "    </tr>\n",
              "  </tbody>\n",
              "</table>\n",
              "</div>"
            ],
            "text/plain": [
              "   CustomerID   Amount  Frequency\n",
              "0     12346.0     0.00          2\n",
              "1     12347.0  4310.00        182\n",
              "2     12348.0  1797.24         31\n",
              "3     12349.0  1757.55         73\n",
              "4     12350.0   334.40         17"
            ]
          },
          "execution_count": 13,
          "metadata": {},
          "output_type": "execute_result"
        }
      ],
      "source": [
        "# Merging monetary and Frequency on CustomerID doing the inner join\n",
        "master = monetary.merge(k,on='CustomerID',how='inner')\n",
        "\n",
        "\n",
        "\n",
        "#print head of master\n",
        "master.head()\n"
      ]
    },
    {
      "cell_type": "markdown",
      "metadata": {
        "id": "JVJIMDk4jptC"
      },
      "source": [
        "### Recency Value"
      ]
    },
    {
      "cell_type": "markdown",
      "metadata": {
        "id": "EJeSS0U5jptC"
      },
      "source": [
        "Generating recency function\n"
      ]
    },
    {
      "cell_type": "code",
      "execution_count": 14,
      "metadata": {
        "colab": {
          "base_uri": "https://localhost:8080/",
          "height": 316
        },
        "id": "F16rEy4KjptD",
        "outputId": "280eae02-a3eb-4329-ed15-1a7d209c0702"
      },
      "outputs": [
        {
          "name": "stderr",
          "output_type": "stream",
          "text": [
            "C:\\Users\\HP\\AppData\\Local\\Temp\\ipykernel_11964\\3003399410.py:15: SettingWithCopyWarning: \n",
            "A value is trying to be set on a copy of a slice from a DataFrame.\n",
            "Try using .loc[row_indexer,col_indexer] = value instead\n",
            "\n",
            "See the caveats in the documentation: https://pandas.pydata.org/pandas-docs/stable/user_guide/indexing.html#returning-a-view-versus-a-copy\n",
            "  recency['diff'] = maximum - recency.InvoiceDate\n"
          ]
        },
        {
          "data": {
            "text/html": [
              "<div>\n",
              "<style scoped>\n",
              "    .dataframe tbody tr th:only-of-type {\n",
              "        vertical-align: middle;\n",
              "    }\n",
              "\n",
              "    .dataframe tbody tr th {\n",
              "        vertical-align: top;\n",
              "    }\n",
              "\n",
              "    .dataframe thead th {\n",
              "        text-align: right;\n",
              "    }\n",
              "</style>\n",
              "<table border=\"1\" class=\"dataframe\">\n",
              "  <thead>\n",
              "    <tr style=\"text-align: right;\">\n",
              "      <th></th>\n",
              "      <th>CustomerID</th>\n",
              "      <th>InvoiceDate</th>\n",
              "      <th>diff</th>\n",
              "    </tr>\n",
              "  </thead>\n",
              "  <tbody>\n",
              "    <tr>\n",
              "      <th>0</th>\n",
              "      <td>17850.0</td>\n",
              "      <td>2010-12-01 08:26:00</td>\n",
              "      <td>374 days 04:24:00</td>\n",
              "    </tr>\n",
              "    <tr>\n",
              "      <th>1</th>\n",
              "      <td>17850.0</td>\n",
              "      <td>2010-12-01 08:26:00</td>\n",
              "      <td>374 days 04:24:00</td>\n",
              "    </tr>\n",
              "    <tr>\n",
              "      <th>2</th>\n",
              "      <td>17850.0</td>\n",
              "      <td>2010-12-01 08:26:00</td>\n",
              "      <td>374 days 04:24:00</td>\n",
              "    </tr>\n",
              "    <tr>\n",
              "      <th>3</th>\n",
              "      <td>17850.0</td>\n",
              "      <td>2010-12-01 08:26:00</td>\n",
              "      <td>374 days 04:24:00</td>\n",
              "    </tr>\n",
              "    <tr>\n",
              "      <th>4</th>\n",
              "      <td>17850.0</td>\n",
              "      <td>2010-12-01 08:26:00</td>\n",
              "      <td>374 days 04:24:00</td>\n",
              "    </tr>\n",
              "  </tbody>\n",
              "</table>\n",
              "</div>"
            ],
            "text/plain": [
              "   CustomerID         InvoiceDate              diff\n",
              "0     17850.0 2010-12-01 08:26:00 374 days 04:24:00\n",
              "1     17850.0 2010-12-01 08:26:00 374 days 04:24:00\n",
              "2     17850.0 2010-12-01 08:26:00 374 days 04:24:00\n",
              "3     17850.0 2010-12-01 08:26:00 374 days 04:24:00\n",
              "4     17850.0 2010-12-01 08:26:00 374 days 04:24:00"
            ]
          },
          "execution_count": 14,
          "metadata": {},
          "output_type": "execute_result"
        }
      ],
      "source": [
        "# Filtering order_wise data for customerid and invoice_date\n",
        "recency  = order_wise[['CustomerID','InvoiceDate']]\n",
        "\n",
        "\n",
        "# Finding maximum InvoiceDate\n",
        "\n",
        "maximum = max(recency.InvoiceDate)\n",
        "\n",
        "\n",
        "# Adding one more day to the above data, so that the max date will have 1 as the difference and not zero.\n",
        "maximum = maximum + pd.DateOffset(days=1)\n",
        "\n",
        "\n",
        "#Find difference between maximum date and Invoice date in regency, save it in column name diff\n",
        "recency['diff'] = maximum - recency.InvoiceDate\n",
        "\n",
        "\n",
        "#print regency head\n",
        "recency.head()\n"
      ]
    },
    {
      "cell_type": "code",
      "execution_count": 15,
      "metadata": {
        "colab": {
          "base_uri": "https://localhost:8080/"
        },
        "id": "xs2R_ZonjptD",
        "outputId": "0e825faf-330c-4b9a-f2b2-58fb4b433aeb"
      },
      "outputs": [
        {
          "data": {
            "text/plain": [
              "Timestamp('2011-12-10 12:50:00')"
            ]
          },
          "execution_count": 15,
          "metadata": {},
          "output_type": "execute_result"
        }
      ],
      "source": [
        "maximum"
      ]
    },
    {
      "cell_type": "code",
      "execution_count": 16,
      "metadata": {
        "colab": {
          "base_uri": "https://localhost:8080/",
          "height": 206
        },
        "id": "qk1ALSQRjptD",
        "outputId": "ecfa179e-6ffc-417f-8a5b-6ec95bb3f447"
      },
      "outputs": [
        {
          "data": {
            "text/html": [
              "<div>\n",
              "<style scoped>\n",
              "    .dataframe tbody tr th:only-of-type {\n",
              "        vertical-align: middle;\n",
              "    }\n",
              "\n",
              "    .dataframe tbody tr th {\n",
              "        vertical-align: top;\n",
              "    }\n",
              "\n",
              "    .dataframe thead th {\n",
              "        text-align: right;\n",
              "    }\n",
              "</style>\n",
              "<table border=\"1\" class=\"dataframe\">\n",
              "  <thead>\n",
              "    <tr style=\"text-align: right;\">\n",
              "      <th></th>\n",
              "      <th>CustomerID</th>\n",
              "      <th>Recency</th>\n",
              "    </tr>\n",
              "  </thead>\n",
              "  <tbody>\n",
              "    <tr>\n",
              "      <th>0</th>\n",
              "      <td>12346.0</td>\n",
              "      <td>326 days 02:33:00</td>\n",
              "    </tr>\n",
              "    <tr>\n",
              "      <th>1</th>\n",
              "      <td>12347.0</td>\n",
              "      <td>2 days 20:58:00</td>\n",
              "    </tr>\n",
              "    <tr>\n",
              "      <th>2</th>\n",
              "      <td>12348.0</td>\n",
              "      <td>75 days 23:37:00</td>\n",
              "    </tr>\n",
              "    <tr>\n",
              "      <th>3</th>\n",
              "      <td>12349.0</td>\n",
              "      <td>19 days 02:59:00</td>\n",
              "    </tr>\n",
              "    <tr>\n",
              "      <th>4</th>\n",
              "      <td>12350.0</td>\n",
              "      <td>310 days 20:49:00</td>\n",
              "    </tr>\n",
              "  </tbody>\n",
              "</table>\n",
              "</div>"
            ],
            "text/plain": [
              "   CustomerID           Recency\n",
              "0     12346.0 326 days 02:33:00\n",
              "1     12347.0   2 days 20:58:00\n",
              "2     12348.0  75 days 23:37:00\n",
              "3     12349.0  19 days 02:59:00\n",
              "4     12350.0 310 days 20:49:00"
            ]
          },
          "execution_count": 16,
          "metadata": {},
          "output_type": "execute_result"
        }
      ],
      "source": [
        "# group recency by customerid and get minimum value of corresponding diff column\n",
        "df = pd.DataFrame(recency.groupby('CustomerID')['diff'].min())\n",
        "\n",
        "\n",
        "#reset index of df\n",
        "df = df.reset_index()\n",
        "\n",
        "\n",
        "\n",
        "#name columns of df as \"CustomerID\" and \"Recency\"\n",
        "df.columns = ['CustomerID','Recency']\n",
        "\n",
        "\n",
        "\n",
        "#print head of df\n",
        "df.head()\n"
      ]
    },
    {
      "cell_type": "markdown",
      "metadata": {
        "id": "F236fatRjptD"
      },
      "source": [
        "### RFM combined DataFrame\n",
        "\n",
        "Combining all recency, frequency and monetary parameters\n"
      ]
    },
    {
      "cell_type": "code",
      "execution_count": 17,
      "metadata": {
        "colab": {
          "base_uri": "https://localhost:8080/",
          "height": 206
        },
        "id": "GGRws9hEjptD",
        "outputId": "242f3e54-e3ad-43f1-b39d-45a926d70e30"
      },
      "outputs": [
        {
          "data": {
            "text/html": [
              "<div>\n",
              "<style scoped>\n",
              "    .dataframe tbody tr th:only-of-type {\n",
              "        vertical-align: middle;\n",
              "    }\n",
              "\n",
              "    .dataframe tbody tr th {\n",
              "        vertical-align: top;\n",
              "    }\n",
              "\n",
              "    .dataframe thead th {\n",
              "        text-align: right;\n",
              "    }\n",
              "</style>\n",
              "<table border=\"1\" class=\"dataframe\">\n",
              "  <thead>\n",
              "    <tr style=\"text-align: right;\">\n",
              "      <th></th>\n",
              "      <th>CustomerID</th>\n",
              "      <th>Amount</th>\n",
              "      <th>Frequency</th>\n",
              "      <th>Recency</th>\n",
              "    </tr>\n",
              "  </thead>\n",
              "  <tbody>\n",
              "    <tr>\n",
              "      <th>0</th>\n",
              "      <td>12346.0</td>\n",
              "      <td>0.00</td>\n",
              "      <td>2</td>\n",
              "      <td>326 days 02:33:00</td>\n",
              "    </tr>\n",
              "    <tr>\n",
              "      <th>1</th>\n",
              "      <td>12347.0</td>\n",
              "      <td>4310.00</td>\n",
              "      <td>182</td>\n",
              "      <td>2 days 20:58:00</td>\n",
              "    </tr>\n",
              "    <tr>\n",
              "      <th>2</th>\n",
              "      <td>12348.0</td>\n",
              "      <td>1797.24</td>\n",
              "      <td>31</td>\n",
              "      <td>75 days 23:37:00</td>\n",
              "    </tr>\n",
              "    <tr>\n",
              "      <th>3</th>\n",
              "      <td>12349.0</td>\n",
              "      <td>1757.55</td>\n",
              "      <td>73</td>\n",
              "      <td>19 days 02:59:00</td>\n",
              "    </tr>\n",
              "    <tr>\n",
              "      <th>4</th>\n",
              "      <td>12350.0</td>\n",
              "      <td>334.40</td>\n",
              "      <td>17</td>\n",
              "      <td>310 days 20:49:00</td>\n",
              "    </tr>\n",
              "  </tbody>\n",
              "</table>\n",
              "</div>"
            ],
            "text/plain": [
              "   CustomerID   Amount  Frequency           Recency\n",
              "0     12346.0     0.00          2 326 days 02:33:00\n",
              "1     12347.0  4310.00        182   2 days 20:58:00\n",
              "2     12348.0  1797.24         31  75 days 23:37:00\n",
              "3     12349.0  1757.55         73  19 days 02:59:00\n",
              "4     12350.0   334.40         17 310 days 20:49:00"
            ]
          },
          "execution_count": 17,
          "metadata": {},
          "output_type": "execute_result"
        }
      ],
      "source": [
        "#Merge master with df on CustomerID\n",
        "RFM = master.merge(df,on='CustomerID')\n",
        "\n",
        "\n",
        "# Print head of RFM\n",
        "RFM.head()\n"
      ]
    },
    {
      "cell_type": "markdown",
      "metadata": {
        "id": "9WixO_k7jptE"
      },
      "source": [
        "### Outlier Treatment\n",
        "\n",
        "1. outlier treatment for Amount\n"
      ]
    },
    {
      "cell_type": "code",
      "execution_count": 18,
      "metadata": {
        "colab": {
          "base_uri": "https://localhost:8080/",
          "height": 265
        },
        "id": "6lW8AMQhjptE",
        "outputId": "4ee02d87-a489-4307-ae47-c0ba69e106df"
      },
      "outputs": [
        {
          "data": {
            "image/png": "[encoded data removed]",
            "text/plain": [
              "<Figure size 640x480 with 1 Axes>"
            ]
          },
          "metadata": {},
          "output_type": "display_data"
        }
      ],
      "source": [
        "#box plot amount column from RFM\n",
        "plt.boxplot(RFM.Amount)\n",
        "\n",
        "\n",
        "# get 25% quantile range of amount\n",
        "Q1 = RFM.Amount.quantile(0.25)\n",
        "\n",
        "\n",
        "# get 75% quantile range of amount\n",
        "Q3 = RFM.Amount.quantile(0.75)\n",
        "\n",
        "\n",
        "\n",
        "# GEt difference between first and third quantile\n",
        "IQR = Q3-Q1\n",
        "\n",
        "\n",
        "\n",
        "#Remove outliers by filtering amount more than or equal to Q1-1.5*IQR and less than  or equal to Q3 + 1.5*IQR\n",
        "RFM = RFM[(RFM.Amount>=Q1 - 1.5*IQR)&(RFM.Amount>=Q3 + 1.5*IQR)]\n",
        "\n"
      ]
    },
    {
      "cell_type": "markdown",
      "metadata": {
        "id": "ZoDoU2wvjptE"
      },
      "source": [
        "2. outlier treatment for Frequency\n"
      ]
    },
    {
      "cell_type": "code",
      "execution_count": 19,
      "metadata": {
        "colab": {
          "base_uri": "https://localhost:8080/",
          "height": 265
        },
        "id": "6yrKnwl9jptE",
        "outputId": "6864140c-a75f-4915-ff42-41b08dd71a39"
      },
      "outputs": [
        {
          "data": {
            "image/png": "[encoded data removed]",
            "text/plain": [
              "<Figure size 640x480 with 1 Axes>"
            ]
          },
          "metadata": {},
          "output_type": "display_data"
        }
      ],
      "source": [
        "#box plot Frequency column from RFM\n",
        "plt.boxplot(RFM.Frequency)\n",
        "\n",
        "\n",
        "# get 25% quantile range of amount\n",
        "Q1 = RFM.Frequency.quantile(0.25)\n",
        "\n",
        "\n",
        "# get 75% quantile range of amount\n",
        "Q3 = RFM.Frequency.quantile(0.75)\n",
        "\n",
        "\n",
        "\n",
        "# GEt difference between first and third quantile\n",
        "IQR = Q3-Q1\n",
        "\n",
        "\n",
        "\n",
        "#Remove outliers by filtering amount more than or equal to Q1-1.5*IQR and less than  or equal to Q3 + 1.5*IQR\n",
        "RFM = RFM[(RFM.Frequency>=Q1 - 1.5*IQR)&(RFM.Frequency>=Q3 + 1.5*IQR)]\n"
      ]
    },
    {
      "cell_type": "markdown",
      "metadata": {
        "id": "AXuTg1mzjptE"
      },
      "source": [
        "3.  outlier treatment for Recency\n"
      ]
    },
    {
      "cell_type": "code",
      "execution_count": 20,
      "metadata": {
        "id": "J_EmDaZ8jptE"
      },
      "outputs": [],
      "source": [
        "# Drop 'CustomerID' from RFM\n",
        "RFM_norm1 = RFM.drop('CustomerID',axis=1)\n",
        "\n",
        "\n",
        "#Extract from column Recency and update your Recency column\n",
        "RFM_norm1.Recency = RFM_norm1.Recency.dt.days\n"
      ]
    },
    {
      "cell_type": "code",
      "execution_count": 21,
      "metadata": {
        "colab": {
          "base_uri": "https://localhost:8080/",
          "height": 206
        },
        "id": "ZGbTQu6-jptE",
        "outputId": "f42a5895-7b00-433e-ee37-bdae9a9cabfa"
      },
      "outputs": [
        {
          "data": {
            "text/html": [
              "<div>\n",
              "<style scoped>\n",
              "    .dataframe tbody tr th:only-of-type {\n",
              "        vertical-align: middle;\n",
              "    }\n",
              "\n",
              "    .dataframe tbody tr th {\n",
              "        vertical-align: top;\n",
              "    }\n",
              "\n",
              "    .dataframe thead th {\n",
              "        text-align: right;\n",
              "    }\n",
              "</style>\n",
              "<table border=\"1\" class=\"dataframe\">\n",
              "  <thead>\n",
              "    <tr style=\"text-align: right;\">\n",
              "      <th></th>\n",
              "      <th>Amount</th>\n",
              "      <th>Frequency</th>\n",
              "      <th>Recency</th>\n",
              "    </tr>\n",
              "  </thead>\n",
              "  <tbody>\n",
              "    <tr>\n",
              "      <th>330</th>\n",
              "      <td>29072.10</td>\n",
              "      <td>4642</td>\n",
              "      <td>1</td>\n",
              "    </tr>\n",
              "    <tr>\n",
              "      <th>564</th>\n",
              "      <td>27964.48</td>\n",
              "      <td>1061</td>\n",
              "      <td>1</td>\n",
              "    </tr>\n",
              "    <tr>\n",
              "      <th>568</th>\n",
              "      <td>57385.88</td>\n",
              "      <td>1857</td>\n",
              "      <td>3</td>\n",
              "    </tr>\n",
              "    <tr>\n",
              "      <th>698</th>\n",
              "      <td>7454.07</td>\n",
              "      <td>1677</td>\n",
              "      <td>1</td>\n",
              "    </tr>\n",
              "    <tr>\n",
              "      <th>1273</th>\n",
              "      <td>8124.40</td>\n",
              "      <td>1128</td>\n",
              "      <td>1</td>\n",
              "    </tr>\n",
              "  </tbody>\n",
              "</table>\n",
              "</div>"
            ],
            "text/plain": [
              "        Amount  Frequency  Recency\n",
              "330   29072.10       4642        1\n",
              "564   27964.48       1061        1\n",
              "568   57385.88       1857        3\n",
              "698    7454.07       1677        1\n",
              "1273   8124.40       1128        1"
            ]
          },
          "execution_count": 21,
          "metadata": {},
          "output_type": "execute_result"
        }
      ],
      "source": [
        "# print head of RFM_norm1\n",
        "\n",
        "RFM_norm1.head()\n"
      ]
    },
    {
      "cell_type": "markdown",
      "metadata": {
        "id": "OsMNwfEyjptF"
      },
      "source": [
        "### Scaling the RFM data"
      ]
    },
    {
      "cell_type": "code",
      "execution_count": 22,
      "metadata": {
        "id": "nqORhBG_jptF"
      },
      "outputs": [],
      "source": [
        "# import StandardScaler\n",
        "from sklearn.preprocessing import StandardScaler\n",
        "\n",
        "\n",
        "# standardise all parameters\n",
        "standard_scaler = StandardScaler()\n",
        "\n",
        "\n",
        "#fit_transform your RFM_norm1\n",
        "RFM_norm1 = standard_scaler.fit_transform(RFM_norm1)\n"
      ]
    },
    {
      "cell_type": "code",
      "execution_count": 23,
      "metadata": {
        "colab": {
          "base_uri": "https://localhost:8080/",
          "height": 206
        },
        "id": "ClbE-APzjptF",
        "outputId": "61205702-505d-4bdc-c8b3-af76f0604547"
      },
      "outputs": [
        {
          "data": {
            "text/html": [
              "<div>\n",
              "<style scoped>\n",
              "    .dataframe tbody tr th:only-of-type {\n",
              "        vertical-align: middle;\n",
              "    }\n",
              "\n",
              "    .dataframe tbody tr th {\n",
              "        vertical-align: top;\n",
              "    }\n",
              "\n",
              "    .dataframe thead th {\n",
              "        text-align: right;\n",
              "    }\n",
              "</style>\n",
              "<table border=\"1\" class=\"dataframe\">\n",
              "  <thead>\n",
              "    <tr style=\"text-align: right;\">\n",
              "      <th></th>\n",
              "      <th>Frequency</th>\n",
              "      <th>Amount</th>\n",
              "      <th>Recency</th>\n",
              "    </tr>\n",
              "  </thead>\n",
              "  <tbody>\n",
              "    <tr>\n",
              "      <th>0</th>\n",
              "      <td>-0.156417</td>\n",
              "      <td>1.525393</td>\n",
              "      <td>-0.758366</td>\n",
              "    </tr>\n",
              "    <tr>\n",
              "      <th>1</th>\n",
              "      <td>-0.175649</td>\n",
              "      <td>-0.538684</td>\n",
              "      <td>-0.758366</td>\n",
              "    </tr>\n",
              "    <tr>\n",
              "      <th>2</th>\n",
              "      <td>0.335219</td>\n",
              "      <td>-0.079872</td>\n",
              "      <td>-0.487866</td>\n",
              "    </tr>\n",
              "    <tr>\n",
              "      <th>3</th>\n",
              "      <td>-0.531788</td>\n",
              "      <td>-0.183624</td>\n",
              "      <td>-0.758366</td>\n",
              "    </tr>\n",
              "    <tr>\n",
              "      <th>4</th>\n",
              "      <td>-0.520149</td>\n",
              "      <td>-0.500065</td>\n",
              "      <td>-0.758366</td>\n",
              "    </tr>\n",
              "  </tbody>\n",
              "</table>\n",
              "</div>"
            ],
            "text/plain": [
              "   Frequency    Amount   Recency\n",
              "0  -0.156417  1.525393 -0.758366\n",
              "1  -0.175649 -0.538684 -0.758366\n",
              "2   0.335219 -0.079872 -0.487866\n",
              "3  -0.531788 -0.183624 -0.758366\n",
              "4  -0.520149 -0.500065 -0.758366"
            ]
          },
          "execution_count": 23,
          "metadata": {},
          "output_type": "execute_result"
        }
      ],
      "source": [
        "#save RFM_norm1 into a DataFrame\n",
        "RFM_norm1 = pd.DataFrame(RFM_norm1)\n",
        "\n",
        "\n",
        "# Change columns names as  ['Frequency','Amount','Recency']\n",
        "RFM_norm1.columns = ['Frequency','Amount','Recency']\n",
        "\n",
        "\n",
        "#print head of RFM_norm1\n",
        "RFM_norm1.head()\n",
        "\n"
      ]
    },
    {
      "cell_type": "markdown",
      "metadata": {
        "id": "zNeUN7-_jptF"
      },
      "source": [
        "## Hopkins Statistics:\n",
        "The Hopkins statistic, is a statistic which gives a value which indicates the cluster tendency, in other words: how well the data can be clustered.\n",
        "\n",
        "- If the value is between {0.01, ...,0.3}, the data is regularly spaced.\n",
        "\n",
        "- If the value is around 0.5, it is random.\n",
        "\n",
        "- If the value is between {0.7, ..., 0.99}, it has a high tendency to cluster."
      ]
    },
    {
      "cell_type": "markdown",
      "metadata": {
        "id": "r_sVpwcpjptF"
      },
      "source": [
        "Some usefull links to understand Hopkins Statistics:\n",
        "- Watch video below\n",
        "- [Article](https://sushildeore99.medium.com/really-what-is-hopkins-statistic-bad1265df4b)\n",
        "\n",
        "We are providing you the below function to calculate Hopkins score."
      ]
    },
    {
      "cell_type": "markdown",
      "metadata": {
        "id": "Ei8ObuIqxOZv"
      },
      "source": [
        "## **`Watch Video 3 : Hopkin Statistics Intuition`**"
      ]
    },
    {
      "cell_type": "code",
      "execution_count": 24,
      "metadata": {
        "id": "A0aa_plHjptF"
      },
      "outputs": [],
      "source": [
        "# Function to calculate Hopkins score\n",
        "from sklearn.neighbors import NearestNeighbors\n",
        "from random import sample\n",
        "from numpy.random import uniform\n",
        "import numpy as np\n",
        "from math import isnan\n",
        " \n",
        "def hopkins(X):\n",
        "    d = X.shape[1]\n",
        "    #d = len(vars) # columns\n",
        "    n = len(X) # rows\n",
        "    m = int(0.1 * n) \n",
        "    nbrs = NearestNeighbors(n_neighbors=1).fit(X.values)\n",
        " \n",
        "    rand_X = sample(range(0, n, 1), m)\n",
        " \n",
        "    ujd = []\n",
        "    wjd = []\n",
        "    for j in range(0, m):\n",
        "        u_dist, _ = nbrs.kneighbors(uniform(np.amin(X,axis=0),np.amax(X,axis=0),d).reshape(1, -1), 2, return_distance=True)\n",
        "        ujd.append(u_dist[0][1])\n",
        "        w_dist, _ = nbrs.kneighbors(X.iloc[rand_X[j]].values.reshape(1, -1), 2, return_distance=True)\n",
        "        wjd.append(w_dist[0][1])\n",
        " \n",
        "    H = sum(ujd) / (sum(ujd) + sum(wjd))\n",
        "    if isnan(H):\n",
        "        print(ujd, wjd)\n",
        "        H = 0\n",
        " \n",
        "    return H"
      ]
    },
    {
      "cell_type": "code",
      "execution_count": 25,
      "metadata": {
        "colab": {
          "base_uri": "https://localhost:8080/"
        },
        "id": "pWnfHiRrjptF",
        "outputId": "1c6a8ef2-b80e-4528-f529-57eadb03d648"
      },
      "outputs": [
        {
          "data": {
            "text/plain": [
              "0.978780302752405"
            ]
          },
          "execution_count": 25,
          "metadata": {},
          "output_type": "execute_result"
        }
      ],
      "source": [
        "# Use hopkins() function on RFM_norm1 \n",
        "\n",
        "hopkins(RFM_norm1)\n"
      ]
    },
    {
      "cell_type": "markdown",
      "metadata": {
        "id": "ISyUJTl4jptG"
      },
      "source": [
        "If we use 0.5 as the threshold to reject the alternative hypothesis. That is, if H < 0.5, then it is unlikely that Data has statistically significant clusters.\n",
        "\n",
        "Put in other words, If the value of Hopkins statistic is close to 1, then we can reject the null hypothesis and conclude that the dataset D is significantly a clusterable data. So here we can see possibility of clustering.\n",
        "\n",
        "## K-Means with some K\n",
        "\n",
        "<p style='text-align: right;'> 10 points</p>\n",
        "\n",
        "\n",
        "\n",
        "Reference doc: https://scikit-learn.org/stable/modules/generated/sklearn.cluster.KMeans.html\n",
        "\n",
        "The K-means algorithm identifies k number of centroids, and then allocates every data point to the nearest cluster, while keeping the centroids as small as possible.\n",
        "The ‘means’ in the K-means refers to averaging of the data; that is, finding the centroid.\n",
        "\n",
        "Reference video below"
      ]
    },
    {
      "cell_type": "markdown",
      "metadata": {
        "id": "RLP3UYeQx6Gm"
      },
      "source": [
        "## **`Watch Video 4 :  kmean Intuition`**"
      ]
    },
    {
      "cell_type": "code",
      "execution_count": 26,
      "metadata": {
        "colab": {
          "base_uri": "https://localhost:8080/"
        },
        "id": "J-U3nryYjptG",
        "outputId": "0afb2039-27b7-457a-a2d8-c02ee4af5bdc"
      },
      "outputs": [
        {
          "name": "stderr",
          "output_type": "stream",
          "text": [
            "c:\\Users\\HP\\AppData\\Local\\Programs\\Python\\Python311\\Lib\\site-packages\\sklearn\\cluster\\_kmeans.py:870: FutureWarning: The default value of `n_init` will change from 10 to 'auto' in 1.4. Set the value of `n_init` explicitly to suppress the warning\n",
            "  warnings.warn(\n"
          ]
        },
        {
          "data": {
            "text/html": [
              "<style>#sk-container-id-1 {color: black;background-color: white;}#sk-container-id-1 pre{padding: 0;}#sk-container-id-1 div.sk-toggleable {background-color: white;}#sk-container-id-1 label.sk-toggleable__label {cursor: pointer;display: block;width: 100%;margin-bottom: 0;padding: 0.3em;box-sizing: border-box;text-align: center;}#sk-container-id-1 label.sk-toggleable__label-arrow:before {content: \"▸\";float: left;margin-right: 0.25em;color: #696969;}#sk-container-id-1 label.sk-toggleable__label-arrow:hover:before {color: black;}#sk-container-id-1 div.sk-estimator:hover label.sk-toggleable__label-arrow:before {color: black;}#sk-container-id-1 div.sk-toggleable__content {max-height: 0;max-width: 0;overflow: hidden;text-align: left;background-color: #f0f8ff;}#sk-container-id-1 div.sk-toggleable__content pre {margin: 0.2em;color: black;border-radius: 0.25em;background-color: #f0f8ff;}#sk-container-id-1 input.sk-toggleable__control:checked~div.sk-toggleable__content {max-height: 200px;max-width: 100%;overflow: auto;}#sk-container-id-1 input.sk-toggleable__control:checked~label.sk-toggleable__label-arrow:before {content: \"▾\";}#sk-container-id-1 div.sk-estimator input.sk-toggleable__control:checked~label.sk-toggleable__label {background-color: #d4ebff;}#sk-container-id-1 div.sk-label input.sk-toggleable__control:checked~label.sk-toggleable__label {background-color: #d4ebff;}#sk-container-id-1 input.sk-hidden--visually {border: 0;clip: rect(1px 1px 1px 1px);clip: rect(1px, 1px, 1px, 1px);height: 1px;margin: -1px;overflow: hidden;padding: 0;position: absolute;width: 1px;}#sk-container-id-1 div.sk-estimator {font-family: monospace;background-color: #f0f8ff;border: 1px dotted black;border-radius: 0.25em;box-sizing: border-box;margin-bottom: 0.5em;}#sk-container-id-1 div.sk-estimator:hover {background-color: #d4ebff;}#sk-container-id-1 div.sk-parallel-item::after {content: \"\";width: 100%;border-bottom: 1px solid gray;flex-grow: 1;}#sk-container-id-1 div.sk-label:hover label.sk-toggleable__label {background-color: #d4ebff;}#sk-container-id-1 div.sk-serial::before {content: \"\";position: absolute;border-left: 1px solid gray;box-sizing: border-box;top: 0;bottom: 0;left: 50%;z-index: 0;}#sk-container-id-1 div.sk-serial {display: flex;flex-direction: column;align-items: center;background-color: white;padding-right: 0.2em;padding-left: 0.2em;position: relative;}#sk-container-id-1 div.sk-item {position: relative;z-index: 1;}#sk-container-id-1 div.sk-parallel {display: flex;align-items: stretch;justify-content: center;background-color: white;position: relative;}#sk-container-id-1 div.sk-item::before, #sk-container-id-1 div.sk-parallel-item::before {content: \"\";position: absolute;border-left: 1px solid gray;box-sizing: border-box;top: 0;bottom: 0;left: 50%;z-index: -1;}#sk-container-id-1 div.sk-parallel-item {display: flex;flex-direction: column;z-index: 1;position: relative;background-color: white;}#sk-container-id-1 div.sk-parallel-item:first-child::after {align-self: flex-end;width: 50%;}#sk-container-id-1 div.sk-parallel-item:last-child::after {align-self: flex-start;width: 50%;}#sk-container-id-1 div.sk-parallel-item:only-child::after {width: 0;}#sk-container-id-1 div.sk-dashed-wrapped {border: 1px dashed gray;margin: 0 0.4em 0.5em 0.4em;box-sizing: border-box;padding-bottom: 0.4em;background-color: white;}#sk-container-id-1 div.sk-label label {font-family: monospace;font-weight: bold;display: inline-block;line-height: 1.2em;}#sk-container-id-1 div.sk-label-container {text-align: center;}#sk-container-id-1 div.sk-container {/* jupyter's `normalize.less` sets `[hidden] { display: none; }` but bootstrap.min.css set `[hidden] { display: none !important; }` so we also need the `!important` here to be able to override the default hidden behavior on the sphinx rendered scikit-learn.org. See: https://github.com/scikit-learn/scikit-learn/issues/21755 */display: inline-block !important;position: relative;}#sk-container-id-1 div.sk-text-repr-fallback {display: none;}</style><div id=\"sk-container-id-1\" class=\"sk-top-container\"><div class=\"sk-text-repr-fallback\"><pre>KMeans(max_iter=50, n_clusters=5, random_state=1)</pre><b>In a Jupyter environment, please rerun this cell to show the HTML representation or trust the notebook. <br />On GitHub, the HTML representation is unable to render, please try loading this page with nbviewer.org.</b></div><div class=\"sk-container\" hidden><div class=\"sk-item\"><div class=\"sk-estimator sk-toggleable\"><input class=\"sk-toggleable__control sk-hidden--visually\" id=\"sk-estimator-id-1\" type=\"checkbox\" checked><label for=\"sk-estimator-id-1\" class=\"sk-toggleable__label sk-toggleable__label-arrow\">KMeans</label><div class=\"sk-toggleable__content\"><pre>KMeans(max_iter=50, n_clusters=5, random_state=1)</pre></div></div></div></div></div>"
            ],
            "text/plain": [
              "KMeans(max_iter=50, n_clusters=5, random_state=1)"
            ]
          },
          "execution_count": 26,
          "metadata": {},
          "output_type": "execute_result"
        }
      ],
      "source": [
        "# To perform KMeans clustering \n",
        "from sklearn.cluster import KMeans\n",
        "\n",
        "# Kmeans with K=5, max_iter as 50 and random_state as 1\n",
        "model_clus5 = KMeans(n_clusters=5,  max_iter=50,random_state=1)\n",
        "\n",
        "\n",
        "#Fit Kmeans on RFM_norm1\n",
        "model_clus5.fit(RFM_norm1)\n"
      ]
    },
    {
      "cell_type": "code",
      "execution_count": 28,
      "metadata": {
        "id": "CQn6Ew1cjptG"
      },
      "outputs": [],
      "source": [
        "# plt.scatter(RFM_norm1[model_clus5 == 0, 0], RFM_norm1[model_clus5 == 0, 1], s = 60, c = 'red', label = 'Cluster1')\n",
        "# plt.scatter(RFM_norm1[model_clus5 == 1, 0], RFM_norm1[model_clus5 == 1, 1], s = 60, c = 'blue', label = 'Cluster2')\n",
        "# plt.scatter(RFM_norm1[model_clus5 == 2, 0], RFM_norm1[model_clus5 == 2, 1], s = 60, c = 'green', label = 'Cluster3')\n",
        "# plt.scatter(RFM_norm1[model_clus5 == 3, 0], RFM_norm1[model_clus5 == 3, 1], s = 60, c = 'violet', label = 'Cluster4')\n",
        "# plt.scatter(RFM_norm1[model_clus5 == 4, 0], RFM_norm1[model_clus5 == 4, 1], s = 60, c = 'yellow', label = 'Cluster5') \n",
        "# plt.scatter(kmeans.cluster_centers_[:, 0], kmeans.cluster_centers_[:, 1], s = 100, c = 'black', label = 'Centroids')\n",
        "# plt.xlabel('Annual Income (k$)')\n",
        "# plt.ylabel('Spending Score (1-100)') \n",
        "# plt.legend() \n",
        "\n",
        "# plt.show()"
      ]
    },
    {
      "cell_type": "markdown",
      "metadata": {
        "id": "EnCPnZQJjptG"
      },
      "source": [
        "## Optimal K Value\n",
        "\n",
        "Finding the optimal number of clusters is an important part of this algorithm. Commonly used method for finding optimal K value is \n",
        "1. Silhouette Analysis\n",
        "2. Elbow Method.  \n",
        "\n",
        "### Silhouette Analysis\n",
        "\n",
        "Reference doc: https://scikit-learn.org/stable/auto_examples/cluster/plot_kmeans_silhouette_analysis.html\n",
        "\n",
        "\n",
        "$$\\text{silhouette score}=\\frac{p-q}{max(p,q)}$$\n",
        "\n",
        "$p$ is the mean distance to the points in the nearest cluster that the data point is not a part of\n",
        "\n",
        "$q$ is the mean intra-cluster distance to all the points in its own cluster.\n",
        "\n",
        "* The value of the silhouette score range lies between -1 to 1. \n",
        "\n",
        "* A score closer to 1 indicates that the data point is very similar to other data points in the cluster, \n",
        "\n",
        "* A score closer to -1 indicates that the data point is not similar to the data points in its cluster.\n",
        "\n",
        "Reference video below:"
      ]
    },
    {
      "cell_type": "markdown",
      "metadata": {
        "id": "QC780aHkywCI"
      },
      "source": [
        "## **`Watch Video 5 : Silhouette (clustering)- Validating Clustering Models`**"
      ]
    },
    {
      "cell_type": "code",
      "execution_count": 30,
      "metadata": {
        "id": "zGN6_c6CjptG"
      },
      "outputs": [
        {
          "name": "stderr",
          "output_type": "stream",
          "text": [
            "c:\\Users\\HP\\AppData\\Local\\Programs\\Python\\Python311\\Lib\\site-packages\\sklearn\\cluster\\_kmeans.py:870: FutureWarning: The default value of `n_init` will change from 10 to 'auto' in 1.4. Set the value of `n_init` explicitly to suppress the warning\n",
            "  warnings.warn(\n",
            "c:\\Users\\HP\\AppData\\Local\\Programs\\Python\\Python311\\Lib\\site-packages\\sklearn\\cluster\\_kmeans.py:870: FutureWarning: The default value of `n_init` will change from 10 to 'auto' in 1.4. Set the value of `n_init` explicitly to suppress the warning\n",
            "  warnings.warn(\n",
            "c:\\Users\\HP\\AppData\\Local\\Programs\\Python\\Python311\\Lib\\site-packages\\sklearn\\cluster\\_kmeans.py:870: FutureWarning: The default value of `n_init` will change from 10 to 'auto' in 1.4. Set the value of `n_init` explicitly to suppress the warning\n",
            "  warnings.warn(\n",
            "c:\\Users\\HP\\AppData\\Local\\Programs\\Python\\Python311\\Lib\\site-packages\\sklearn\\cluster\\_kmeans.py:870: FutureWarning: The default value of `n_init` will change from 10 to 'auto' in 1.4. Set the value of `n_init` explicitly to suppress the warning\n",
            "  warnings.warn(\n",
            "c:\\Users\\HP\\AppData\\Local\\Programs\\Python\\Python311\\Lib\\site-packages\\sklearn\\cluster\\_kmeans.py:870: FutureWarning: The default value of `n_init` will change from 10 to 'auto' in 1.4. Set the value of `n_init` explicitly to suppress the warning\n",
            "  warnings.warn(\n",
            "c:\\Users\\HP\\AppData\\Local\\Programs\\Python\\Python311\\Lib\\site-packages\\sklearn\\cluster\\_kmeans.py:870: FutureWarning: The default value of `n_init` will change from 10 to 'auto' in 1.4. Set the value of `n_init` explicitly to suppress the warning\n",
            "  warnings.warn(\n",
            "c:\\Users\\HP\\AppData\\Local\\Programs\\Python\\Python311\\Lib\\site-packages\\sklearn\\cluster\\_kmeans.py:870: FutureWarning: The default value of `n_init` will change from 10 to 'auto' in 1.4. Set the value of `n_init` explicitly to suppress the warning\n",
            "  warnings.warn(\n",
            "c:\\Users\\HP\\AppData\\Local\\Programs\\Python\\Python311\\Lib\\site-packages\\sklearn\\cluster\\_kmeans.py:870: FutureWarning: The default value of `n_init` will change from 10 to 'auto' in 1.4. Set the value of `n_init` explicitly to suppress the warning\n",
            "  warnings.warn(\n",
            "c:\\Users\\HP\\AppData\\Local\\Programs\\Python\\Python311\\Lib\\site-packages\\sklearn\\cluster\\_kmeans.py:870: FutureWarning: The default value of `n_init` will change from 10 to 'auto' in 1.4. Set the value of `n_init` explicitly to suppress the warning\n",
            "  warnings.warn(\n",
            "c:\\Users\\HP\\AppData\\Local\\Programs\\Python\\Python311\\Lib\\site-packages\\sklearn\\cluster\\_kmeans.py:870: FutureWarning: The default value of `n_init` will change from 10 to 'auto' in 1.4. Set the value of `n_init` explicitly to suppress the warning\n",
            "  warnings.warn(\n",
            "c:\\Users\\HP\\AppData\\Local\\Programs\\Python\\Python311\\Lib\\site-packages\\sklearn\\cluster\\_kmeans.py:870: FutureWarning: The default value of `n_init` will change from 10 to 'auto' in 1.4. Set the value of `n_init` explicitly to suppress the warning\n",
            "  warnings.warn(\n",
            "c:\\Users\\HP\\AppData\\Local\\Programs\\Python\\Python311\\Lib\\site-packages\\sklearn\\cluster\\_kmeans.py:870: FutureWarning: The default value of `n_init` will change from 10 to 'auto' in 1.4. Set the value of `n_init` explicitly to suppress the warning\n",
            "  warnings.warn(\n",
            "c:\\Users\\HP\\AppData\\Local\\Programs\\Python\\Python311\\Lib\\site-packages\\sklearn\\cluster\\_kmeans.py:870: FutureWarning: The default value of `n_init` will change from 10 to 'auto' in 1.4. Set the value of `n_init` explicitly to suppress the warning\n",
            "  warnings.warn(\n"
          ]
        }
      ],
      "source": [
        "# import silhouette_score\n",
        "from sklearn.metrics import silhouette_score\n",
        "\n",
        "\n",
        "# Initialise empty array to append result\n",
        "sse_ = []\n",
        "\n",
        "# Iterate over different k values (here 2 to 15)\n",
        "for k in range(2, 15):\n",
        "    \n",
        "#     fit KMeans on different k values with max_iter=50, random_state=1\n",
        "    kmeans = KMeans(n_clusters=k,max_iter=50, random_state=1).fit(RFM_norm1)\n",
        "    \n",
        "    #append silhouette_score for every k value\n",
        "    \n",
        "    sse_.append([k,silhouette_score(RFM_norm1,kmeans.labels_)])\n",
        "    "
      ]
    },
    {
      "cell_type": "markdown",
      "metadata": {
        "id": "sVWBE1ULjptH"
      },
      "source": [
        "###### Visualise silhouette_score vs Number of Clusters"
      ]
    },
    {
      "cell_type": "code",
      "execution_count": 31,
      "metadata": {
        "colab": {
          "base_uri": "https://localhost:8080/",
          "height": 265
        },
        "id": "xBDvMeUjjptH",
        "outputId": "01fe207c-5590-46c2-e3aa-4be6a13d1e98"
      },
      "outputs": [
        {
          "data": {
            "text/plain": [
              "[<matplotlib.lines.Line2D at 0x1c8f8316010>]"
            ]
          },
          "execution_count": 31,
          "metadata": {},
          "output_type": "execute_result"
        },
        {
          "data": {
            "image/png": "[encoded data removed]",
            "text/plain": [
              "<Figure size 640x480 with 1 Axes>"
            ]
          },
          "metadata": {},
          "output_type": "display_data"
        }
      ],
      "source": [
        "# Plot K vs silhouette_score\n",
        "plt.plot(pd.DataFrame(sse_)[0],pd.DataFrame(sse_)[1])\n",
        "\n"
      ]
    },
    {
      "cell_type": "markdown",
      "metadata": {
        "id": "N2yjNvxejptH"
      },
      "source": [
        "Above plot shows best silhouette_score on cluster number 3. Lets check another visualisation tool to confirm if k=3 is optimal \n",
        "\n",
        "We will use yellowbrick library for this\n",
        "\n",
        "Reference link: https://www.scikit-yb.org/en/latest/api/cluster/silhouette.html"
      ]
    },
    {
      "cell_type": "code",
      "execution_count": 34,
      "metadata": {
        "colab": {
          "base_uri": "https://localhost:8080/",
          "height": 483
        },
        "id": "CzO04zJejptH",
        "outputId": "45bad643-3ec9-4fa7-fc9a-f5732c9843a0"
      },
      "outputs": [
        {
          "data": {
            "image/png": "[encoded data removed]",
            "text/plain": [
              "<Figure size 1500x800 with 4 Axes>"
            ]
          },
          "metadata": {},
          "output_type": "display_data"
        }
      ],
      "source": [
        "# import yellowbrick \n",
        "from yellowbrick.cluster import SilhouetteVisualizer\n",
        "\n",
        "fig, ax = plt.subplots(2, 2, figsize=(15,8))\n",
        "\n",
        "#iterate from range 2 to 5\n",
        "for i in [ 2, 3, 4, 5]:\n",
        "    '''\n",
        "    Create KMeans instance for different number of clusters with n_init as 10, max_iteration as 50 and random_state as 1\n",
        "    '''\n",
        "    km = KMeans(n_clusters=i,init='k-means++',n_init=10,max_iter=50,random_state=1)\n",
        "    \n",
        "    \n",
        "    q, mod = divmod(i, 2)\n",
        "    '''\n",
        "    Create SilhouetteVisualizer instance with KMeans instance with ax as ax[q-1][mod]\n",
        "    \n",
        "    '''\n",
        "    visualizer = SilhouetteVisualizer(km,colors='yellowbrick',ax=ax[q-1][mod])\n",
        "    \n",
        "#     Fit the visualizer \n",
        "    visualizer.fit(RFM_norm1)"
      ]
    },
    {
      "cell_type": "markdown",
      "metadata": {
        "id": "yT-jfp7djptH"
      },
      "source": [
        "Now question comes, how to analyse optimal k value from above plots. \n",
        "\n",
        "The value of n_clusters as 4 and 5 looks to be suboptimal for the given data due to the following reasons:\n",
        "- Presence of clusters with below-average silhouette scores \n",
        "- Wide fluctuations in the size of the silhouette plots.\n",
        "- The value of 2 and 3 for n_clusters looks to be the optimal one. The silhouette score for each cluster is above average silhouette scores. Also, the fluctuation in size is similar. The thickness of the silhouette plot representing each cluster also is a deciding point. For the plot with n_cluster 3 (top right), the thickness is more uniform than the plot with n_cluster as 2 (top left) with one cluster thickness much more than the other. \n",
        "\n",
        "Thus, one can select the optimal number of clusters as 3."
      ]
    },
    {
      "cell_type": "markdown",
      "metadata": {
        "id": "2q2epKUfjptH"
      },
      "source": [
        "## Sum of Squared Distances/ Elbow Method\n",
        "\n",
        "Reference link: https://stackoverflow.com/questions/19197715/scikit-learn-k-means-elbow-criterion\n",
        "\n",
        "This is probably the most well-known method for determining the optimal number of clusters. It is also a bit naive in its approach.\n",
        "Calculate the Within-Cluster-Sum of Squared Errors (WSS) for different values of k, and choose the k for which WSS becomes first starts to diminish. In the plot of WSS-versus-k, this is visible as an elbow.\n",
        "\n",
        "Reference video below:"
      ]
    },
    {
      "cell_type": "markdown",
      "metadata": {
        "id": "13rYXfrNzIMr"
      },
      "source": [
        "## **`Watch Video 6 : K-Means Clustering with Elbow Method`**"
      ]
    },
    {
      "cell_type": "code",
      "execution_count": 35,
      "metadata": {
        "colab": {
          "base_uri": "https://localhost:8080/",
          "height": 347
        },
        "id": "x7NpOmkAjptH",
        "outputId": "5046b928-7867-4280-9895-3d0fb83c6b40"
      },
      "outputs": [
        {
          "name": "stderr",
          "output_type": "stream",
          "text": [
            "c:\\Users\\HP\\AppData\\Local\\Programs\\Python\\Python311\\Lib\\site-packages\\sklearn\\cluster\\_kmeans.py:870: FutureWarning: The default value of `n_init` will change from 10 to 'auto' in 1.4. Set the value of `n_init` explicitly to suppress the warning\n",
            "  warnings.warn(\n",
            "c:\\Users\\HP\\AppData\\Local\\Programs\\Python\\Python311\\Lib\\site-packages\\sklearn\\cluster\\_kmeans.py:870: FutureWarning: The default value of `n_init` will change from 10 to 'auto' in 1.4. Set the value of `n_init` explicitly to suppress the warning\n",
            "  warnings.warn(\n",
            "c:\\Users\\HP\\AppData\\Local\\Programs\\Python\\Python311\\Lib\\site-packages\\sklearn\\cluster\\_kmeans.py:870: FutureWarning: The default value of `n_init` will change from 10 to 'auto' in 1.4. Set the value of `n_init` explicitly to suppress the warning\n",
            "  warnings.warn(\n",
            "c:\\Users\\HP\\AppData\\Local\\Programs\\Python\\Python311\\Lib\\site-packages\\sklearn\\cluster\\_kmeans.py:870: FutureWarning: The default value of `n_init` will change from 10 to 'auto' in 1.4. Set the value of `n_init` explicitly to suppress the warning\n",
            "  warnings.warn(\n",
            "c:\\Users\\HP\\AppData\\Local\\Programs\\Python\\Python311\\Lib\\site-packages\\sklearn\\cluster\\_kmeans.py:870: FutureWarning: The default value of `n_init` will change from 10 to 'auto' in 1.4. Set the value of `n_init` explicitly to suppress the warning\n",
            "  warnings.warn(\n",
            "c:\\Users\\HP\\AppData\\Local\\Programs\\Python\\Python311\\Lib\\site-packages\\sklearn\\cluster\\_kmeans.py:870: FutureWarning: The default value of `n_init` will change from 10 to 'auto' in 1.4. Set the value of `n_init` explicitly to suppress the warning\n",
            "  warnings.warn(\n",
            "c:\\Users\\HP\\AppData\\Local\\Programs\\Python\\Python311\\Lib\\site-packages\\sklearn\\cluster\\_kmeans.py:870: FutureWarning: The default value of `n_init` will change from 10 to 'auto' in 1.4. Set the value of `n_init` explicitly to suppress the warning\n",
            "  warnings.warn(\n",
            "c:\\Users\\HP\\AppData\\Local\\Programs\\Python\\Python311\\Lib\\site-packages\\sklearn\\cluster\\_kmeans.py:870: FutureWarning: The default value of `n_init` will change from 10 to 'auto' in 1.4. Set the value of `n_init` explicitly to suppress the warning\n",
            "  warnings.warn(\n",
            "c:\\Users\\HP\\AppData\\Local\\Programs\\Python\\Python311\\Lib\\site-packages\\sklearn\\cluster\\_kmeans.py:870: FutureWarning: The default value of `n_init` will change from 10 to 'auto' in 1.4. Set the value of `n_init` explicitly to suppress the warning\n",
            "  warnings.warn(\n",
            "c:\\Users\\HP\\AppData\\Local\\Programs\\Python\\Python311\\Lib\\site-packages\\sklearn\\cluster\\_kmeans.py:870: FutureWarning: The default value of `n_init` will change from 10 to 'auto' in 1.4. Set the value of `n_init` explicitly to suppress the warning\n",
            "  warnings.warn(\n"
          ]
        },
        {
          "data": {
            "image/png": "[encoded data removed]",
            "text/plain": [
              "<Figure size 800x550 with 1 Axes>"
            ]
          },
          "metadata": {},
          "output_type": "display_data"
        }
      ],
      "source": [
        "# sum of squared distances\n",
        "\n",
        "# Initialise empty array to store score\n",
        "ssd = []\n",
        "\n",
        "#Iterate for different k values ( from 1 to 21)\n",
        "for num_clusters in list(range(1,11)):\n",
        "    \n",
        "#     Instantiate K means for different k values and max_iter as 50 and random state as 42\n",
        "    model_clus = KMeans(n_clusters=num_clusters,init='k-means++',max_iter=50,random_state=42)\n",
        "    \n",
        "    #fir above model with RFM_norm1\n",
        "    model_clus.fit(RFM_norm1)\n",
        "    \n",
        "    \n",
        "    #calculate sum of squared distances and append in ssd (Use: inertia_ on model_clus)\n",
        "    ssd.append(model_clus.inertia_)\n",
        "    \n",
        "\n",
        "#plot ssd\n",
        "plt.plot(ssd)\n",
        "plt.show()\n",
        "\n"
      ]
    },
    {
      "cell_type": "markdown",
      "metadata": {
        "id": "LhSKA8J-jptI"
      },
      "source": [
        "Lets also use yellowbrick for deciding k visualy\n",
        "\n",
        "Reference link: https://www.scikit-yb.org/en/latest/api/cluster/elbow.html"
      ]
    },
    {
      "cell_type": "code",
      "execution_count": 36,
      "metadata": {
        "colab": {
          "base_uri": "https://localhost:8080/",
          "height": 394
        },
        "id": "PrrjvwEkjptI",
        "outputId": "9478dd34-ed39-4429-e321-45bec582125d"
      },
      "outputs": [
        {
          "name": "stderr",
          "output_type": "stream",
          "text": [
            "c:\\Users\\HP\\AppData\\Local\\Programs\\Python\\Python311\\Lib\\site-packages\\sklearn\\cluster\\_kmeans.py:870: FutureWarning: The default value of `n_init` will change from 10 to 'auto' in 1.4. Set the value of `n_init` explicitly to suppress the warning\n",
            "  warnings.warn(\n",
            "c:\\Users\\HP\\AppData\\Local\\Programs\\Python\\Python311\\Lib\\site-packages\\sklearn\\cluster\\_kmeans.py:870: FutureWarning: The default value of `n_init` will change from 10 to 'auto' in 1.4. Set the value of `n_init` explicitly to suppress the warning\n",
            "  warnings.warn(\n",
            "c:\\Users\\HP\\AppData\\Local\\Programs\\Python\\Python311\\Lib\\site-packages\\sklearn\\cluster\\_kmeans.py:870: FutureWarning: The default value of `n_init` will change from 10 to 'auto' in 1.4. Set the value of `n_init` explicitly to suppress the warning\n",
            "  warnings.warn(\n",
            "c:\\Users\\HP\\AppData\\Local\\Programs\\Python\\Python311\\Lib\\site-packages\\sklearn\\cluster\\_kmeans.py:870: FutureWarning: The default value of `n_init` will change from 10 to 'auto' in 1.4. Set the value of `n_init` explicitly to suppress the warning\n",
            "  warnings.warn(\n",
            "c:\\Users\\HP\\AppData\\Local\\Programs\\Python\\Python311\\Lib\\site-packages\\sklearn\\cluster\\_kmeans.py:870: FutureWarning: The default value of `n_init` will change from 10 to 'auto' in 1.4. Set the value of `n_init` explicitly to suppress the warning\n",
            "  warnings.warn(\n",
            "c:\\Users\\HP\\AppData\\Local\\Programs\\Python\\Python311\\Lib\\site-packages\\sklearn\\cluster\\_kmeans.py:870: FutureWarning: The default value of `n_init` will change from 10 to 'auto' in 1.4. Set the value of `n_init` explicitly to suppress the warning\n",
            "  warnings.warn(\n",
            "c:\\Users\\HP\\AppData\\Local\\Programs\\Python\\Python311\\Lib\\site-packages\\sklearn\\cluster\\_kmeans.py:870: FutureWarning: The default value of `n_init` will change from 10 to 'auto' in 1.4. Set the value of `n_init` explicitly to suppress the warning\n",
            "  warnings.warn(\n",
            "c:\\Users\\HP\\AppData\\Local\\Programs\\Python\\Python311\\Lib\\site-packages\\sklearn\\cluster\\_kmeans.py:870: FutureWarning: The default value of `n_init` will change from 10 to 'auto' in 1.4. Set the value of `n_init` explicitly to suppress the warning\n",
            "  warnings.warn(\n",
            "c:\\Users\\HP\\AppData\\Local\\Programs\\Python\\Python311\\Lib\\site-packages\\sklearn\\cluster\\_kmeans.py:870: FutureWarning: The default value of `n_init` will change from 10 to 'auto' in 1.4. Set the value of `n_init` explicitly to suppress the warning\n",
            "  warnings.warn(\n",
            "c:\\Users\\HP\\AppData\\Local\\Programs\\Python\\Python311\\Lib\\site-packages\\sklearn\\cluster\\_kmeans.py:870: FutureWarning: The default value of `n_init` will change from 10 to 'auto' in 1.4. Set the value of `n_init` explicitly to suppress the warning\n",
            "  warnings.warn(\n"
          ]
        },
        {
          "data": {
            "image/png": "[encoded data removed]",
            "text/plain": [
              "<Figure size 800x550 with 2 Axes>"
            ]
          },
          "metadata": {},
          "output_type": "display_data"
        },
        {
          "data": {
            "text/plain": [
              "<AxesSubplot: title={'center': 'Distortion Score Elbow for KMeans Clustering'}, xlabel='k', ylabel='distortion score'>"
            ]
          },
          "execution_count": 36,
          "metadata": {},
          "output_type": "execute_result"
        }
      ],
      "source": [
        "# import kelbow_visualizer\n",
        "from yellowbrick.cluster.elbow import kelbow_visualizer\n",
        "\n",
        "# kelbow_visualizer with Kmeans which has parameters random_state=42, max_iter=50, and k range from 1 to 11\n",
        "elbow = kelbow_visualizer(KMeans(random_state=42,max_iter=50),RFM_norm1,k=(1,11))\n",
        "elbow.show()\n",
        "\n"
      ]
    },
    {
      "cell_type": "markdown",
      "metadata": {
        "id": "dQFDZm7fjptI"
      },
      "source": [
        "the above elbow is clear at k = 3. However, this choice is ambiguous as we could choose k to be either 2 or 3.\n",
        "In such an ambiguous case, we may use the Silhouette Method.\n",
        "\n",
        "### Analysis of clusters formed\n"
      ]
    },
    {
      "cell_type": "code",
      "execution_count": 37,
      "metadata": {
        "id": "cmX2JEykjptI"
      },
      "outputs": [],
      "source": [
        "# Set index of RFM in the range of length of RFM.index\n",
        "RFM.index = pd.RangeIndex(len(RFM.index))\n",
        "\n",
        "\n",
        "#create a series of lable in model_clus5\n",
        "m=pd.Series(model_clus5.labels_)\n",
        "\n",
        "\n",
        "# Concat RFM and m  columnwise\n",
        "RFM_km = pd.concat([RFM,m],axis=1)\n",
        "\n",
        "\n",
        "#name columns as ['CustomerID', 'Frequency', 'Amount', 'Recency', 'ClusterID']\n",
        "RFM_km.columns = ['CustomerID', 'Frequency', 'Amount', 'Recency', 'ClusterID']\n",
        "\n",
        "\n",
        "#Covert values in Recency into days only\n",
        "RFM_km.Recency = RFM_km.Recency.dt.days\n",
        "\n",
        "\n",
        "#Create a dataframe of mean amount for each group of ClusterID\n",
        "km_clusters_amount = pd.DataFrame(RFM_km.groupby(['ClusterID']).Amount.mean())\n",
        "\n",
        "\n",
        "#Create a dataframe of mean Frequency for each group of ClusterID\n",
        "km_clusters_frequency = pd.DataFrame(RFM_km.groupby(['ClusterID']).Frequency.mean())\n",
        "\n",
        "\n",
        "#Create a dataframe of mean Recency for each group of ClusterID\n",
        "km_clusters_recency = pd.DataFrame(RFM_km.groupby(['ClusterID']).Recency.mean())\n",
        "\n"
      ]
    },
    {
      "cell_type": "code",
      "execution_count": 38,
      "metadata": {
        "colab": {
          "base_uri": "https://localhost:8080/",
          "height": 206
        },
        "id": "NFBtqxNgjptI",
        "outputId": "5e83f050-aed3-45cf-cd58-319443116c5d"
      },
      "outputs": [
        {
          "data": {
            "text/html": [
              "<div>\n",
              "<style scoped>\n",
              "    .dataframe tbody tr th:only-of-type {\n",
              "        vertical-align: middle;\n",
              "    }\n",
              "\n",
              "    .dataframe tbody tr th {\n",
              "        vertical-align: top;\n",
              "    }\n",
              "\n",
              "    .dataframe thead th {\n",
              "        text-align: right;\n",
              "    }\n",
              "</style>\n",
              "<table border=\"1\" class=\"dataframe\">\n",
              "  <thead>\n",
              "    <tr style=\"text-align: right;\">\n",
              "      <th></th>\n",
              "      <th>ClusterID</th>\n",
              "      <th>Amount_mean</th>\n",
              "      <th>Frequency_mean</th>\n",
              "      <th>Recency_mean</th>\n",
              "    </tr>\n",
              "  </thead>\n",
              "  <tbody>\n",
              "    <tr>\n",
              "      <th>0</th>\n",
              "      <td>0</td>\n",
              "      <td>5914.000000</td>\n",
              "      <td>64776.602500</td>\n",
              "      <td>2.000000</td>\n",
              "    </tr>\n",
              "    <tr>\n",
              "      <th>1</th>\n",
              "      <td>1</td>\n",
              "      <td>1124.714286</td>\n",
              "      <td>7281.791429</td>\n",
              "      <td>13.714286</td>\n",
              "    </tr>\n",
              "    <tr>\n",
              "      <th>2</th>\n",
              "      <td>2</td>\n",
              "      <td>1421.600000</td>\n",
              "      <td>31442.400667</td>\n",
              "      <td>3.066667</td>\n",
              "    </tr>\n",
              "    <tr>\n",
              "      <th>3</th>\n",
              "      <td>3</td>\n",
              "      <td>2085.000000</td>\n",
              "      <td>279489.020000</td>\n",
              "      <td>2.000000</td>\n",
              "    </tr>\n",
              "    <tr>\n",
              "      <th>4</th>\n",
              "      <td>4</td>\n",
              "      <td>938.000000</td>\n",
              "      <td>5043.960000</td>\n",
              "      <td>33.000000</td>\n",
              "    </tr>\n",
              "  </tbody>\n",
              "</table>\n",
              "</div>"
            ],
            "text/plain": [
              "   ClusterID  Amount_mean  Frequency_mean  Recency_mean\n",
              "0          0  5914.000000    64776.602500      2.000000\n",
              "1          1  1124.714286     7281.791429     13.714286\n",
              "2          2  1421.600000    31442.400667      3.066667\n",
              "3          3  2085.000000   279489.020000      2.000000\n",
              "4          4   938.000000     5043.960000     33.000000"
            ]
          },
          "execution_count": 38,
          "metadata": {},
          "output_type": "execute_result"
        }
      ],
      "source": [
        "#concat series of [0,1,2,3,4] with km_clusters_amount, km_clusters_frequency and km_clusters_recency columnwise\n",
        "df = pd.concat([pd.Series([0,1,2,3,4]),km_clusters_amount,km_clusters_frequency,km_clusters_recency],axis=1)\n",
        "\n",
        "\n",
        "#name columns as [\"ClusterID\", \"Amount_mean\", \"Frequency_mean\", \"Recency_mean\"]\n",
        "df.columns = [\"ClusterID\", \"Amount_mean\", \"Frequency_mean\", \"Recency_mean\"]\n",
        "\n",
        "\n",
        "#print df\n",
        "df"
      ]
    },
    {
      "cell_type": "code",
      "execution_count": 41,
      "metadata": {
        "colab": {
          "base_uri": "https://localhost:8080/",
          "height": 361
        },
        "id": "Nyg3pkhpjptI",
        "outputId": "5a2ac231-152e-4aa8-90e6-c6e7dfbdae2f"
      },
      "outputs": [
        {
          "data": {
            "image/png": "[encoded data removed]",
            "text/plain": [
              "<Figure size 800x550 with 1 Axes>"
            ]
          },
          "metadata": {},
          "output_type": "display_data"
        }
      ],
      "source": [
        "#barplot for each ClusterID w.r.t mean amount\n",
        "\n",
        "sns.barplot(x=df.ClusterID,y=df.Amount_mean)\n",
        "plt.show()\n"
      ]
    },
    {
      "cell_type": "code",
      "execution_count": 42,
      "metadata": {
        "colab": {
          "base_uri": "https://localhost:8080/",
          "height": 361
        },
        "id": "tvYo79WOjptJ",
        "outputId": "de617ffc-beb7-46c0-f7f3-d19d4b27d340"
      },
      "outputs": [
        {
          "data": {
            "image/png": "[encoded data removed]",
            "text/plain": [
              "<Figure size 800x550 with 1 Axes>"
            ]
          },
          "metadata": {},
          "output_type": "display_data"
        }
      ],
      "source": [
        "#barplot for each ClusterID w.r.t mean Frequency\n",
        "sns.barplot(x=df.ClusterID,y=df.Frequency_mean)\n",
        "plt.show()\n",
        "\n"
      ]
    },
    {
      "cell_type": "code",
      "execution_count": 43,
      "metadata": {
        "colab": {
          "base_uri": "https://localhost:8080/",
          "height": 361
        },
        "id": "zxQSM4-3jptJ",
        "outputId": "710632fc-aad7-4983-bd21-3b544c520de3"
      },
      "outputs": [
        {
          "data": {
            "image/png": "[encoded data removed]",
            "text/plain": [
              "<Figure size 800x550 with 1 Axes>"
            ]
          },
          "metadata": {},
          "output_type": "display_data"
        }
      ],
      "source": [
        "#barplot for each ClusterID w.r.t mean Recency\n",
        "\n",
        "sns.barplot(x=df.ClusterID,y=df.Recency_mean)\n",
        "plt.show()\n",
        "\n"
      ]
    },
    {
      "cell_type": "markdown",
      "metadata": {
        "id": "ousaPmAVjptJ"
      },
      "source": [
        "Well done. You have suuccessfully implemented Kmeans clustering technique. From the the above bar plot we analysed that maximum mean Recency is at k =3 but maximum mean Frequency and amount at k=2"
      ]
    },
    {
      "cell_type": "markdown",
      "metadata": {
        "id": "ydsZyVbdjptJ"
      },
      "source": [
        "<hr>"
      ]
    },
    {
      "cell_type": "markdown",
      "metadata": {
        "id": "4J3Y91-ujptJ"
      },
      "source": [
        "## Heirarchical Clustering\n",
        "\n",
        "<p style='text-align: right;'> 10 points</p>\n",
        "\n",
        "\n",
        "Like K-means clustering, hierarchical clustering also groups together the data points with similar characteristics. In some cases the result of hierarchical and K-Means clustering can be similar. Before implementing hierarchical clustering using Scikit-Learn, let's first understand the theory behind hierarchical clustering.\n",
        "\n",
        "There are two types of hierarchical clustering: \n",
        "\n",
        "`1. Agglomerative : data points are clustered using a bottom-up approach starting with individual data points\n",
        "2. Divisive.:  while in this top-down approach is followed where all the data points are treated as one big cluster and the clustering process involves dividing the one big cluster into several small clusters.`\n",
        "\n",
        "Heirarchical clustering methods predict subgroups within data by:\n",
        "\n",
        "1) Finding distance between each data points and its nearest neighbors\n",
        "2) Linking the most nearby neighbors\n",
        "\n",
        "Lets first look at the dendograms. What!!! but wait what is dendograms now? \n",
        "\n",
        "You can find the number of subgroups that are appropriate for a heirarchical clustering model by looking at dendograms. \n",
        "A dendrogram is a diagram representing a tree for visually displaying taxonomies, lineages and relatedness.\n",
        "\n",
        "Reference doc: https://docs.scipy.org/doc/scipy/reference/generated/scipy.cluster.hierarchy.linkage.html\n",
        "\n",
        "### Scipy Dendograms\n",
        "\n",
        "Lets first try using linkage with different methods and check clusters visually. "
      ]
    },
    {
      "cell_type": "markdown",
      "metadata": {
        "id": "7_D20l02zVB_"
      },
      "source": [
        "## **`Watch Video 7 : Clustering - Hierarchical clustering (Theory)`**"
      ]
    },
    {
      "cell_type": "markdown",
      "metadata": {
        "id": "ZPEl69l2yznN"
      },
      "source": [
        "## **`Watch Video 8 : Hierarchical Practical`**\n",
        "### **`Dataset used: `**https://drive.google.com/file/d/17Xc5pngiHOsMmEtvUVLpFuO4cfsaAd_M/view?usp=sharing"
      ]
    },
    {
      "cell_type": "code",
      "execution_count": 49,
      "metadata": {
        "colab": {
          "base_uri": "https://localhost:8080/",
          "height": 587
        },
        "id": "rOkexVW2jptJ",
        "outputId": "66401652-0c82-41a3-bd83-da1fcfea21bd"
      },
      "outputs": [
        {
          "data": {
            "image/png": "[encoded data removed]",
            "text/plain": [
              "<Figure size 2500x1000 with 1 Axes>"
            ]
          },
          "metadata": {},
          "output_type": "display_data"
        }
      ],
      "source": [
        "# import dendrogram and linkage from scipy\n",
        "from scipy.cluster.hierarchy import dendrogram,linkage\n",
        "\n",
        "#Get random 100 sample from RFM_norm1 with random_state=10 ( to reduce computation time)\n",
        "RFM_Sample= RFM_norm1.sample(100,random_state=10,replace=True)\n",
        "\n",
        "# Check linkage on RFM_Sample  with  method as single and distance metrix as euclidean\n",
        "mergings = linkage(RFM_Sample,method='single',metric='euclidean')\n",
        "\n",
        "# Use dendrogram to plot above mergings with figsize=(25, 10)\n",
        "fig = plt.figure(figsize=(25,10))\n",
        "dendrogram(mergings)\n",
        "plt.show()\n",
        "\n"
      ]
    },
    {
      "cell_type": "markdown",
      "metadata": {
        "id": "aPzrvqEJjptJ"
      },
      "source": [
        "In above plot also if we take maximum distance between clusters to be 1.2, then we can see that we get 3 subgroups/ clusters"
      ]
    },
    {
      "cell_type": "code",
      "execution_count": 50,
      "metadata": {
        "colab": {
          "base_uri": "https://localhost:8080/",
          "height": 587
        },
        "id": "2gdzL-EmjptK",
        "outputId": "f0844a16-7230-4ce1-cf44-fcbb488a17dd"
      },
      "outputs": [
        {
          "data": {
            "image/png": "[encoded data removed]",
            "text/plain": [
              "<Figure size 2500x1000 with 1 Axes>"
            ]
          },
          "metadata": {},
          "output_type": "display_data"
        }
      ],
      "source": [
        "# Check linkage on RFM_Sample  with  method as complete and distance metrix as euclidean\n",
        "mergings = linkage(RFM_Sample,method='complete',metric='euclidean')\n",
        "\n",
        "\n",
        "# Use dendrogram to plot above mergings with figsize=(25, 10)\n",
        "fig = plt.figure(figsize=(25,10))\n",
        "dendrogram(mergings)\n",
        "plt.show()\n",
        "\n",
        "\n"
      ]
    },
    {
      "cell_type": "markdown",
      "metadata": {
        "id": "obTUfXkljptK"
      },
      "source": [
        "In above diagram, if we take maximum distance to be 4 then we get 3 subgroups or clusters here . But if we take 5 as maximum distance then we get 2 clusters. Lets decide a threshold of 4 and cut the dendrogram:\n"
      ]
    },
    {
      "cell_type": "code",
      "execution_count": 51,
      "metadata": {
        "colab": {
          "base_uri": "https://localhost:8080/",
          "height": 587
        },
        "id": "4i3gKCDRjptK",
        "outputId": "afc07b36-69f0-4c85-b3f8-c65cf5192da8"
      },
      "outputs": [
        {
          "data": {
            "image/png": "[encoded data removed]",
            "text/plain": [
              "<Figure size 2500x1000 with 1 Axes>"
            ]
          },
          "metadata": {},
          "output_type": "display_data"
        }
      ],
      "source": [
        "# Use dendrogram to plot mergings with figsize=(25, 10) also plotting vertical line at 4 to cut dendogram\n",
        "fig = plt.figure(figsize=(25,10))\n",
        "dendrogram(mergings)\n",
        "plt.axhline(y=4,color='r',linestyle='--')\n",
        "plt.show()"
      ]
    },
    {
      "cell_type": "markdown",
      "metadata": {
        "id": "pOQX03BFjptK"
      },
      "source": [
        "We have three clusters as this line cuts the dendrogram at three points. Let’s now apply hierarchical clustering for 3\n",
        "clusters:\n",
        "\n",
        "\n",
        "\n",
        "### Agglomerative Clustering\n",
        "Now lets Generate our no. of clusters using Agglomerative Clustering method\n",
        "\n",
        "Reference doc:  https://scikit-learn.org/stable/modules/generated/sklearn.cluster.AgglomerativeClustering.html \n",
        "\n"
      ]
    },
    {
      "cell_type": "code",
      "execution_count": 52,
      "metadata": {
        "id": "b0RrS-RkjptK"
      },
      "outputs": [
        {
          "name": "stderr",
          "output_type": "stream",
          "text": [
            "c:\\Users\\HP\\AppData\\Local\\Programs\\Python\\Python311\\Lib\\site-packages\\sklearn\\cluster\\_agglomerative.py:983: FutureWarning: Attribute `affinity` was deprecated in version 1.2 and will be removed in 1.4. Use `metric` instead\n",
            "  warnings.warn(\n"
          ]
        }
      ],
      "source": [
        "# import AgglomerativeClustering\n",
        "from sklearn.cluster import AgglomerativeClustering\n",
        "\n",
        "\n",
        "#Define number of clusters (here 3)\n",
        "k=3\n",
        "\n",
        "# Instantiate AgglomerativeClustering with n_clusters as k, affinity as euclidean and linkage as ward\n",
        "cluster = AgglomerativeClustering(n_clusters=k,affinity='euclidean',linkage='ward' )\n",
        "\n",
        "#fit RFM_norm1 in above model\n",
        "clus=cluster.fit_predict(RFM_norm1)"
      ]
    },
    {
      "cell_type": "markdown",
      "metadata": {
        "id": "mgIzsTOrjptK"
      },
      "source": [
        "Can refer below doc for scatter plot clusters: https://medium.com/@sametgirgin/hierarchical-clustering-model-in-5-steps-with-python-6c45087d4318"
      ]
    },
    {
      "cell_type": "code",
      "execution_count": 53,
      "metadata": {
        "colab": {
          "base_uri": "https://localhost:8080/",
          "height": 347
        },
        "id": "933Lx7_qjptK",
        "outputId": "2916df3f-4a19-4617-c0f1-e9c103f209de"
      },
      "outputs": [
        {
          "data": {
            "image/png": "[encoded data removed]",
            "text/plain": [
              "<Figure size 800x550 with 1 Axes>"
            ]
          },
          "metadata": {},
          "output_type": "display_data"
        }
      ],
      "source": [
        "# convert RFM_norm1 in to numpy array\n",
        "RFM_norm2 = np.array(RFM_norm1)\n",
        "\n",
        "\n",
        "#Scatter plot all clusters formed \n",
        "plt.scatter(RFM_norm2[clus==0,0],RFM_norm2[clus==0,1],s=50,marker='o',color='r',label='Cluster 1')\n",
        "plt.scatter(RFM_norm2[clus==1,0],RFM_norm2[clus==1,1],s=50,marker='o',color='b',label='Cluster 2')\n",
        "plt.scatter(RFM_norm2[clus==2,0],RFM_norm2[clus==2,1],s=50,marker='o',color='g',label='Cluster 3')\n",
        "plt.legend()\n",
        "plt.show()\n"
      ]
    },
    {
      "cell_type": "code",
      "execution_count": 55,
      "metadata": {
        "colab": {
          "base_uri": "https://localhost:8080/"
        },
        "id": "r2C_dETZjptK",
        "outputId": "d402a358-7703-4a23-8810-3d3b5562554f"
      },
      "outputs": [
        {
          "name": "stdout",
          "output_type": "stream",
          "text": [
            "0.4098892678691941\n"
          ]
        }
      ],
      "source": [
        "#import metrics\n",
        "from sklearn import metrics\n",
        "\n",
        "\n",
        "# Lets check silhouette_score on this model\n",
        "print(metrics.silhouette_score(RFM_norm1,clus))\n",
        "\n"
      ]
    },
    {
      "cell_type": "markdown",
      "metadata": {
        "id": "_fmsT45gjptL"
      },
      "source": [
        "## BIRCH\n",
        "\n",
        "<p style='text-align: right;'> 10 points</p>\n",
        "\n",
        "\n",
        "Reference doc : https://scikit-learn.org/stable/modules/generated/sklearn.cluster.Birch.html\n",
        "\n",
        "Reference article: https://thecleverprogrammer.com/2021/03/15/birch-clustering-in-machine-learning/\n",
        "\n",
        "Balanced Iterative Reducing and Clustering using Hierarchies (BIRCH) is a clustering algorithm in machine learning that has been specially designed for clustering on a very large data set. It is often faster than other clustering algorithms like batch K-Means. It provides a very similar result to the batch K-Means algorithm if the number of features in the dataset is not more than 20.\n",
        "\n",
        "When training the model using the BIRCH algorithm, it creates a tree structure with enough data to quickly assign each data point to a cluster. By storing all the data points in the tree, this algorithm allows the use of limited memory while working on a very large data set"
      ]
    },
    {
      "cell_type": "code",
      "execution_count": 56,
      "metadata": {
        "colab": {
          "base_uri": "https://localhost:8080/",
          "height": 374
        },
        "id": "KEOFSUTLjptL",
        "outputId": "c1f37759-0d8f-4b43-bf24-846ecea92572"
      },
      "outputs": [
        {
          "data": {
            "image/png": "[encoded data removed]",
            "text/plain": [
              "<Figure size 1000x600 with 1 Axes>"
            ]
          },
          "metadata": {},
          "output_type": "display_data"
        }
      ],
      "source": [
        "\n",
        "from sklearn.cluster import Birch\n",
        "\n",
        "# Instantiate Birch with branching_factor as 30 and thresholda as 1.5 and n_clusters as None.\n",
        "model = Birch(branching_factor=30,n_clusters=None,threshold=1.5)\n",
        "\n",
        "\n",
        "#fit model on RFM_norm1 \n",
        "model.fit(RFM_norm1)\n",
        "\n",
        "\n",
        "#predict model on RFM_norm1 only\n",
        "pred = model.predict(RFM_norm1)\n",
        "\n",
        "\n",
        "# Scatter plot keeping x and y as first 2 parameters of RFM_norm1and c as pred,cmap as rainbow, alpha as 0.5 and edgecolor as black\n",
        "fig = plt.figure(figsize=(10,6))\n",
        "plt.scatter(RFM_norm1['Frequency'],RFM_norm1['Amount'],c=pred,cmap='rainbow',alpha=0.9,edgecolors='black')\n",
        "plt.show()"
      ]
    },
    {
      "cell_type": "markdown",
      "metadata": {
        "id": "Yx0abjIGjptL"
      },
      "source": [
        "Hey did you see that the above plot looks alike to the Agglomerative scatter plot. We were lucky to have proper parameters for birch model, but if you change threshold value or number of clusters, then your scatter plot won't look the same. You can try changing it and see the results if you want"
      ]
    },
    {
      "cell_type": "code",
      "execution_count": 57,
      "metadata": {
        "colab": {
          "base_uri": "https://localhost:8080/"
        },
        "id": "q5n9tpCBjptL",
        "outputId": "3a668375-6508-484e-8d35-656360bac893"
      },
      "outputs": [
        {
          "name": "stdout",
          "output_type": "stream",
          "text": [
            "0.4012935072837266\n"
          ]
        }
      ],
      "source": [
        "# Lets check silhouette_score on this model\n",
        "print(metrics.silhouette_score(RFM_norm1,model.labels_))"
      ]
    },
    {
      "cell_type": "markdown",
      "metadata": {
        "id": "VvK5ZdVDjptL"
      },
      "source": [
        "## DBSCAN\n",
        "\n",
        "<p style='text-align: right;'> 10 points</p>\n",
        "\n",
        "\n",
        "Reference doc: https://scikit-learn.org/stable/modules/generated/sklearn.cluster.DBSCAN.html\n",
        " \n",
        "        \n",
        "Density Based Spatial Clustering of Applications with Noise(DBCSAN) is a clustering algorithm. It can be used for clustering data points based on density, i.e., by grouping together areas with many samples. This makes it especially useful for performing clustering under noisy conditions: as we shall see, besides clustering, DBSCAN is also capable of detecting noisy points, which can – if desired – be discarded from the dataset.\n",
        "\n",
        "Reference video below:\n",
        "        "
      ]
    },
    {
      "cell_type": "markdown",
      "metadata": {
        "id": "7EjiymcY0Hxt"
      },
      "source": [
        "## **`Watch Video 9&10: DBSCAN intuition part(1,2)`**"
      ]
    },
    {
      "cell_type": "markdown",
      "metadata": {
        "id": "LicoJXq203UF"
      },
      "source": [
        "## **`Watch Video 11: DBSCAN Clustering Coding`**"
      ]
    },
    {
      "cell_type": "code",
      "execution_count": 60,
      "metadata": {
        "id": "z0_z23MnjptL"
      },
      "outputs": [],
      "source": [
        "# import DBSCAN library from sklearn\n",
        "from sklearn.cluster import DBSCAN\n",
        "\n",
        "# Keep epsilon as 1\n",
        "epsilon = 1\n",
        "\n",
        "# Keep min_samples as 13\n",
        "\n",
        "min_samples = 13\n",
        "\n",
        "# Compute  and fit DBSCAN with above epsilon and min_samples\n",
        "db = DBSCAN(eps=epsilon,min_samples=min_samples).fit(RFM_norm1)\n",
        "\n",
        "\n",
        "\n"
      ]
    },
    {
      "cell_type": "code",
      "execution_count": 62,
      "metadata": {
        "colab": {
          "base_uri": "https://localhost:8080/"
        },
        "id": "KzXkdYuKjptL",
        "outputId": "1f03770b-87a9-4e9d-fef1-f489912e179b"
      },
      "outputs": [
        {
          "name": "stdout",
          "output_type": "stream",
          "text": [
            "Estimated no. of clusters: 2\n",
            "Estimated no. of noise points: 0\n"
          ]
        }
      ],
      "source": [
        "#Get lables from db using labels_\n",
        "labels = db.labels_\n",
        "# check length of unique labels\n",
        "no_clusters = len(np.unique(labels))\n",
        "\n",
        "\n",
        "#check total of labels  equals to 1 along the rows to know noice in the data\n",
        "no_noise = np.sum(np.array(labels)==1,axis=0)\n",
        "print('Estimated no. of clusters: %d'% no_clusters)\n",
        "print('Estimated no. of noise points: %d'% no_noise)"
      ]
    },
    {
      "cell_type": "markdown",
      "metadata": {
        "id": "18hldlovjptM"
      },
      "source": [
        "Hint: please watch reference video to get idea to implement below code\n"
      ]
    },
    {
      "cell_type": "code",
      "execution_count": 63,
      "metadata": {
        "colab": {
          "base_uri": "https://localhost:8080/"
        },
        "id": "tMiA2YgkjptM",
        "outputId": "bc21c517-8fd3-44f1-f9ed-10db5e0373b1"
      },
      "outputs": [
        {
          "data": {
            "text/plain": [
              "1"
            ]
          },
          "execution_count": 63,
          "metadata": {},
          "output_type": "execute_result"
        }
      ],
      "source": [
        "#Getting numpy array of noice ( use zeros_like with labels and dtype as bool) \n",
        "sample_cores=np.zeros_like(labels,dtype=bool)\n",
        "\n",
        "\n",
        "#Get values in sample_cores which are other than noice\n",
        "sample_cores[db.core_sample_indices_]=True\n",
        "\n",
        "#Get number of clusters by subtracting length of labels with noice\n",
        "n_clusters=len(set(labels))-(1 if -1 in labels else 0)\n",
        "\n",
        "\n",
        "#print n_clusters\n",
        "n_clusters\n",
        "\n",
        " "
      ]
    },
    {
      "cell_type": "markdown",
      "metadata": {
        "id": "VJTIdIZJjptM"
      },
      "source": [
        "Lets find silhouette_scores on DBSCAN result\n",
        "\n",
        "Reference doc: https://scikit-learn.org/stable/modules/generated/sklearn.metrics.silhouette_score.html"
      ]
    },
    {
      "cell_type": "code",
      "execution_count": 66,
      "metadata": {
        "colab": {
          "base_uri": "https://localhost:8080/"
        },
        "id": "MhxwD6UkjptM",
        "outputId": "966a11c9-1553-4e8e-fba5-2c848ce8cfed"
      },
      "outputs": [
        {
          "name": "stdout",
          "output_type": "stream",
          "text": [
            "0.3539526532617403\n"
          ]
        }
      ],
      "source": [
        "#calculate and print silhouette_score \n",
        "print(metrics.silhouette_score(RFM_norm1,labels))"
      ]
    },
    {
      "cell_type": "markdown",
      "metadata": {
        "id": "i6S5ebcojptM"
      },
      "source": [
        "The best value is 1 and the worst value is -1 in silhouette_score. Values near 0 indicate overlapping clusters. Negative values generally indicate that a sample has been assigned to the wrong cluster, as a different cluster is more similar.\n",
        "\n",
        "We got an average result out of DBSCAN which is a similar case in K means clustering."
      ]
    },
    {
      "cell_type": "markdown",
      "metadata": {
        "id": "pXataGcjjptM"
      },
      "source": [
        "## Mini-Batch K-Means clustering\n",
        "\n",
        "<p style='text-align: right;'> 10 points</p>\n",
        "\n",
        "\n",
        "reference doc: https://scikit-learn.org/stable/modules/generated/sklearn.cluster.MiniBatchKMeans.html\n",
        "\n",
        "K-Means algorithmIt is a commonly used clustering algorithm, but its algorithm itself has certain problems. For example, the long calculation time under a large amount of data is an important problem. For this reason, Mini Batch K-Means, this variant clustering algorithm based on K-Means came into being\n",
        "\n",
        "Mini Batch K-means algorithm‘s main idea is to use small random batches of data of a fixed size, so they can be stored in memory. Each iteration a new random sample from the dataset is obtained and used to update the clusters and this is repeated until convergence.\n",
        "\n",
        "\n",
        "\n",
        "\n",
        "To know difference between mbkmeans and kmeans, check this doc: https://scikit-learn.org/stable/auto_examples/cluster/plot_mini_batch_kmeans.html\n"
      ]
    },
    {
      "cell_type": "code",
      "execution_count": 67,
      "metadata": {
        "colab": {
          "base_uri": "https://localhost:8080/"
        },
        "id": "tRBYo3zEjptM",
        "outputId": "b4662efc-c61e-4522-ba0c-12fa6d23e4f3"
      },
      "outputs": [
        {
          "name": "stdout",
          "output_type": "stream",
          "text": [
            "[1 0 1 0 0 1 1 1 1 1 0 1 2 0 0 2 1 1 1 1 2 1 1 0 1 0 2 1]\n",
            "0.11404942179082578\n"
          ]
        },
        {
          "name": "stderr",
          "output_type": "stream",
          "text": [
            "c:\\Users\\HP\\AppData\\Local\\Programs\\Python\\Python311\\Lib\\site-packages\\sklearn\\cluster\\_kmeans.py:870: FutureWarning: The default value of `n_init` will change from 3 to 'auto' in 1.4. Set the value of `n_init` explicitly to suppress the warning\n",
            "  warnings.warn(\n"
          ]
        }
      ],
      "source": [
        "# import MiniBatchKMeans and pairwise_distances_argmin\n",
        "\n",
        "from sklearn.cluster import MiniBatchKMeans\n",
        "from sklearn.metrics.pairwise import pairwise_distances_argmin\n",
        "\n",
        "# perform the mini batch K-means with number of clusters as 3 and random state as 1\n",
        "mbk = MiniBatchKMeans(n_clusters=3,random_state=1)\n",
        "\n",
        "  \n",
        "#fit model on RFM_norm1\n",
        "mbk.fit(RFM_norm1)\n",
        "\n",
        "\n",
        "# sort cluster_centers for each rows \n",
        "mbk_means_cluster_centers = np.sort(mbk.cluster_centers_,axis=0)\n",
        "\n",
        "\n",
        "#get pairwise_distances_argmin with RFM_norm1 and mbk_means_cluster_centers\n",
        "mbk_means_labels =pairwise_distances_argmin(RFM_norm1,mbk_means_cluster_centers)\n",
        "\n",
        "  \n",
        "# print the labels of each data\n",
        "print(mbk_means_labels)\n",
        "\n",
        "\n",
        "# lets check silhouette_score using mbk_means_labels\n",
        "print(metrics.silhouette_score(RFM_norm1,mbk_means_labels))"
      ]
    },
    {
      "cell_type": "code",
      "execution_count": 68,
      "metadata": {
        "colab": {
          "base_uri": "https://localhost:8080/"
        },
        "id": "W-GiAMJcjptN",
        "outputId": "92977417-18c8-476e-d562-364c39a8381e"
      },
      "outputs": [
        {
          "name": "stderr",
          "output_type": "stream",
          "text": [
            "c:\\Users\\HP\\AppData\\Local\\Programs\\Python\\Python311\\Lib\\site-packages\\sklearn\\base.py:409: UserWarning: X does not have valid feature names, but MiniBatchKMeans was fitted with feature names\n",
            "  warnings.warn(\n"
          ]
        }
      ],
      "source": [
        "# predict mbk on RFM_norm2\n",
        "yhat = mbk.predict(RFM_norm2)\n",
        "\n",
        "# retrieve unique clusters from yhat\n",
        "clusters = np.unique(yhat)\n",
        "\n",
        "\n"
      ]
    },
    {
      "cell_type": "markdown",
      "metadata": {
        "id": "MMX12A-KjptN"
      },
      "source": [
        "Create scatter plot for samples from each cluster\n"
      ]
    },
    {
      "cell_type": "code",
      "execution_count": 70,
      "metadata": {
        "colab": {
          "base_uri": "https://localhost:8080/",
          "height": 374
        },
        "id": "ad1IiCQdjptN",
        "outputId": "f8a8b456-4322-42fd-d4e0-7f8601b1ca4e"
      },
      "outputs": [
        {
          "data": {
            "image/png": "[encoded data removed]",
            "text/plain": [
              "<Figure size 1000x600 with 1 Axes>"
            ]
          },
          "metadata": {},
          "output_type": "display_data"
        }
      ],
      "source": [
        "fig = plt.figure(figsize=(10, 6))\n",
        "\n",
        "# iterate over clusters\n",
        "for cluster in clusters:\n",
        "    # get row indexes for samples with this cluster (Hint: where condition with yhat==cluster)\n",
        "    row_ix = np.where(yhat==cluster)\n",
        "    \n",
        "    # create scatter of these samples (hint: Use RFM_norm2[row_ix, 0], RFM_norm2[row_ix, 1] )\n",
        "    plt.scatter(RFM_norm2[row_ix,0],RFM_norm2[row_ix,1])\n",
        "    \n",
        "    \n",
        "# show the plot\n",
        "plt.show()\n"
      ]
    },
    {
      "cell_type": "markdown",
      "metadata": {
        "id": "-W4kbH4KjptN"
      },
      "source": [
        "The above plot looks similar to the plot in Birch method. Well but the silhouette_score is lesser in this case compared to k means, birch and dbscan"
      ]
    },
    {
      "cell_type": "markdown",
      "metadata": {
        "id": "eHjI9lEujptN"
      },
      "source": [
        "## Mean Shift Clustering Method\n",
        "\n",
        "<p style='text-align: right;'> 10 points</p>\n",
        "\n",
        "\n",
        "Reference doc: https://scikit-learn.org/stable/modules/generated/sklearn.cluster.MeanShift.html\n",
        "    \n",
        "        \n",
        "Mean Shift clustering algorithm is an unsupervised clustering algorithm that groups data directly without being trained on labelled data. The nature of the Mean Shift clustering algorithm is heirarchical in nature, which means it builds on a heirarchy of clusters, step by step.\n",
        "\n",
        "As opposed to K-Means, when using Mean Shift, you don’t need to know the number of categories (clusters) beforehand. The downside to Mean Shift is that it is computationally expensive — O(n²).\n",
        "\n",
        "Reference video below:"
      ]
    },
    {
      "cell_type": "markdown",
      "metadata": {
        "id": "-5vszO6x1C2D"
      },
      "source": [
        "## **`Watch Video 12: Mean Shift Clustering`**"
      ]
    },
    {
      "cell_type": "code",
      "execution_count": 71,
      "metadata": {
        "colab": {
          "base_uri": "https://localhost:8080/"
        },
        "id": "IvHNFcojjptN",
        "outputId": "12e4af2b-5075-424d-ef15-52d439d8f3cc"
      },
      "outputs": [
        {
          "name": "stdout",
          "output_type": "stream",
          "text": [
            "[0 1 2 3 4]\n"
          ]
        }
      ],
      "source": [
        "# import MeanShift\n",
        "from sklearn.cluster import MeanShift\n",
        "\n",
        "\n",
        "# Instantiate Meanshift \n",
        "ms = MeanShift()\n",
        "\n",
        "\n",
        "# fir above model with RFM_norm2\n",
        "ms.fit(RFM_norm2)\n",
        "\n",
        "\n",
        "# Get cluster centers using cluster_centers_\n",
        "cluster_centers = ms.cluster_centers_\n",
        "\n",
        "#print unique labels obtained\n",
        "print(np.unique(ms.labels_))\n"
      ]
    },
    {
      "cell_type": "markdown",
      "metadata": {
        "id": "DPxyQgrojptN"
      },
      "source": [
        "Hey did you notice in above result, we got only 1 cluster using MeanShift method\n",
        "\n",
        "You can read how it works :\n",
        "\n",
        "Given a set of data points, the algorithm iteratively assigns each data point towards the closest cluster centroid and direction to the closest cluster centroid is determined by where most of the points nearby are at. So each iteration each data point will move closer to where the most points are at, which is or will lead to the cluster center. When the algorithm stops, each point is assigned to a cluster.\n",
        "\n",
        "So according to MeanShift in our case each data point has a common centroid, hence we got only one label"
      ]
    },
    {
      "cell_type": "markdown",
      "metadata": {
        "id": "GOMLMvXnjptN"
      },
      "source": [
        "## OPTICS\n",
        "\n",
        "<p style='text-align: right;'> 10 points</p>\n",
        "\n",
        "\n",
        "Reference doc: https://scikit-learn.org/stable/modules/generated/sklearn.cluster.OPTICS.html\n",
        "\n",
        "OPTICS Clustering stands for Ordering Points To Identify Cluster Structure. It draws inspiration from the DBSCAN clustering algorithm. This is a density based clustering method.\n",
        "\n",
        "Density based clusering locates regions of high density that are seperated from one another by regions of low density\n",
        "\n",
        "Density =number of points within a specified radius (Eps)\n",
        "\n",
        "Technically speaking, OPTICS isn’t actually a clustering algorithm. Instead, it creates an ordering of the cases in the data in such a way that we can extract clusters from it. That sounds a little abstract, isn't it.\n",
        "\n",
        "\n",
        "Please do refer above reference links to know depth of OPTICS and its working.\n",
        "\n",
        "Reference video below:"
      ]
    },
    {
      "cell_type": "markdown",
      "metadata": {
        "id": "puBt-Qqv1deH"
      },
      "source": [
        "## **`Video 13: Optics Clustering`**"
      ]
    },
    {
      "cell_type": "code",
      "execution_count": 72,
      "metadata": {
        "id": "GxF92ERsjptN"
      },
      "outputs": [],
      "source": [
        "# import OPTICS\n",
        "from sklearn.cluster import OPTICS\n",
        "\n",
        "\n",
        "#Instialise and fit Optics on RFM_norm2\n",
        "Ops =OPTICS()\n",
        "Ops.fit(RFM_norm2)\n",
        "\n",
        "#Get labels obtained\n",
        "labels=Ops.labels_\n",
        "\n"
      ]
    },
    {
      "cell_type": "code",
      "execution_count": 74,
      "metadata": {
        "colab": {
          "base_uri": "https://localhost:8080/"
        },
        "id": "r4xAoK_yjptO",
        "outputId": "2e375ea5-23b6-49c1-ace2-7ac421a3526c"
      },
      "outputs": [
        {
          "name": "stdout",
          "output_type": "stream",
          "text": [
            "Estimated no. of clusters: 1\n",
            "Estimated no. of noise points: 0\n"
          ]
        }
      ],
      "source": [
        "# check length of unique labels\n",
        "no_clusters = len(np.unique(labels))\n",
        "\n",
        "\n",
        "#check total of labels  equals to 1 along the rows to know noice in the data\n",
        "no_noise = np.sum(np.array(labels)==1,axis=0)\n",
        "\n",
        "print('Estimated no. of clusters: %d'% no_clusters)\n",
        "print('Estimated no. of noise points: %d'% no_noise)"
      ]
    },
    {
      "cell_type": "markdown",
      "metadata": {
        "id": "6GPkvR2yjptO"
      },
      "source": [
        "Omg! you have got so many distinct clusters here\n",
        "\n",
        "\n",
        "Let's change parameters in OPTICS and run again keeping \n",
        "- epsilon = 2.0\n",
        "- min_samples = 30"
      ]
    },
    {
      "cell_type": "code",
      "execution_count": 76,
      "metadata": {
        "colab": {
          "base_uri": "https://localhost:8080/"
        },
        "id": "ZGIMvWN2jptO",
        "outputId": "6227687a-8b03-4464-cdd9-6261b4bdcfcb"
      },
      "outputs": [
        {
          "name": "stdout",
          "output_type": "stream",
          "text": [
            "Estimated no. of clusters: 1\n",
            "Estimated no. of noise points: 0\n"
          ]
        }
      ],
      "source": [
        "# Initialising Optics with above modified parameters\n",
        "Ops = OPTICS(eps=2,min_samples=28).fit(RFM_norm2)\n",
        "\n",
        "#Get labels obtained\n",
        "labels=Ops.labels_\n",
        "\n",
        "# check length of unique labels\n",
        "no_clusters = len(np.unique(labels))\n",
        "\n",
        "#check total of labels  equals to 1 along the rows to know noice in the data\n",
        "no_noise = np.sum(np.array(labels)== -1,axis=0)\n",
        "print('Estimated no. of clusters: %d'% no_clusters)\n",
        "print('Estimated no. of noise points: %d'% no_noise)"
      ]
    },
    {
      "cell_type": "markdown",
      "metadata": {
        "id": "pKJXhr3NjptO"
      },
      "source": [
        "Now if we see we got 2 clusters, but since one of the two cluster represents noice, so we have only 1 relevant cluster\n",
        "\n",
        "We can also easily generate the reachability plot:\n",
        "\n"
      ]
    },
    {
      "cell_type": "code",
      "execution_count": 77,
      "metadata": {
        "colab": {
          "base_uri": "https://localhost:8080/",
          "height": 362
        },
        "id": "oJ7lxKTzjptO",
        "outputId": "a8ffd712-6192-4472-e8ec-48d3daa3144b"
      },
      "outputs": [
        {
          "data": {
            "image/png": "[encoded data removed]",
            "text/plain": [
              "<Figure size 800x550 with 1 Axes>"
            ]
          },
          "metadata": {},
          "output_type": "display_data"
        }
      ],
      "source": [
        "#Use Ops.reachability_[Ops.ordering_] to know the reachability\n",
        "reachability = Ops.reachability_[Ops.ordering_]\n",
        "\n",
        "#plot reachability_\n",
        "plt.plot(reachability)\n",
        "plt.title('reachability plot')\n",
        "plt.show()\n",
        "\n"
      ]
    },
    {
      "cell_type": "markdown",
      "metadata": {
        "id": "IPadGzY4jptO"
      },
      "source": [
        "From above reachability plot we can see  only 2 valleys, one small and one big\n",
        "\n",
        "We saw that OPTICS works by ordering based on reachability distance while expanding the clusters at the same time. The output of the OPTICS algorithm is therefore an ordered list of reachability distances, which by means of thresholds or different techniques we can split into clusters. This way, we’re able of generating clusters for groups of data that have varying densities."
      ]
    },
    {
      "cell_type": "code",
      "execution_count": 78,
      "metadata": {
        "colab": {
          "base_uri": "https://localhost:8080/",
          "height": 374
        },
        "id": "ImI8vPHJjptO",
        "outputId": "41c30024-f34e-4044-87d6-4328c5b0eb7e"
      },
      "outputs": [
        {
          "data": {
            "image/png": "[encoded data removed]",
            "text/plain": [
              "<Figure size 1000x600 with 1 Axes>"
            ]
          },
          "metadata": {},
          "output_type": "display_data"
        }
      ],
      "source": [
        "pred=Ops.fit_predict(RFM_norm2)\n",
        "# print(ClusterData.head())\n",
        " \n",
        "fig = plt.figure(figsize=(10, 6))\n",
        "\n",
        "# Plotting the predicted clusters\n",
        "plt.scatter(RFM_norm1['Frequency'],RFM_norm1['Amount'],c=pred,cmap='rainbow',alpha=0.2,edgecolors='black')\n",
        "plt.show()\n",
        "\n"
      ]
    },
    {
      "cell_type": "markdown",
      "metadata": {
        "id": "bw-K1kw-jptO"
      },
      "source": [
        "From above plot you can see that small red portion is the only recognised cluster in he dataset as per OPTICS. \n",
        "\n",
        "Lets check total count of each unique labels"
      ]
    },
    {
      "cell_type": "code",
      "execution_count": 79,
      "metadata": {
        "colab": {
          "base_uri": "https://localhost:8080/"
        },
        "id": "-BI6FZ6GjptP",
        "outputId": "a6784f85-5345-4cd2-9873-a3d79bc71eb0"
      },
      "outputs": [
        {
          "data": {
            "text/plain": [
              "{0: 28}"
            ]
          },
          "execution_count": 79,
          "metadata": {},
          "output_type": "execute_result"
        }
      ],
      "source": [
        "# Get unique value and counts in the label \n",
        "unique, counts = np.unique( labels,return_counts=True)\n",
        "\n",
        "# Save and print unique value and their total counts in s dictionary\n",
        "dict(zip(unique,counts))\n",
        "\n"
      ]
    },
    {
      "cell_type": "markdown",
      "metadata": {
        "id": "fhdmMVNojptP"
      },
      "source": [
        "here you can see large number of points are noice and same is represented in the bove plot as well."
      ]
    },
    {
      "cell_type": "code",
      "execution_count": 81,
      "metadata": {
        "colab": {
          "base_uri": "https://localhost:8080/"
        },
        "id": "frIEJQAwjptP",
        "outputId": "49f24e51-2e0a-47c0-df5e-bdc274052dda"
      },
      "outputs": [
        {
          "ename": "ValueError",
          "evalue": "Number of labels is 1. Valid values are 2 to n_samples - 1 (inclusive)",
          "output_type": "error",
          "traceback": [
            "\u001b[1;31m---------------------------------------------------------------------------\u001b[0m",
            "\u001b[1;31mValueError\u001b[0m                                Traceback (most recent call last)",
            "Cell \u001b[1;32mIn [81], line 2\u001b[0m\n\u001b[0;32m      1\u001b[0m \u001b[39m# Lets check silhouette_score on OPTICS\u001b[39;00m\n\u001b[1;32m----> 2\u001b[0m \u001b[39mprint\u001b[39m(metrics\u001b[39m.\u001b[39;49msilhouette_score(RFM_norm1,labels))\n",
            "File \u001b[1;32mc:\\Users\\HP\\AppData\\Local\\Programs\\Python\\Python311\\Lib\\site-packages\\sklearn\\metrics\\cluster\\_unsupervised.py:117\u001b[0m, in \u001b[0;36msilhouette_score\u001b[1;34m(X, labels, metric, sample_size, random_state, **kwds)\u001b[0m\n\u001b[0;32m    115\u001b[0m     \u001b[39melse\u001b[39;00m:\n\u001b[0;32m    116\u001b[0m         X, labels \u001b[39m=\u001b[39m X[indices], labels[indices]\n\u001b[1;32m--> 117\u001b[0m \u001b[39mreturn\u001b[39;00m np\u001b[39m.\u001b[39mmean(silhouette_samples(X, labels, metric\u001b[39m=\u001b[39;49mmetric, \u001b[39m*\u001b[39;49m\u001b[39m*\u001b[39;49mkwds))\n",
            "File \u001b[1;32mc:\\Users\\HP\\AppData\\Local\\Programs\\Python\\Python311\\Lib\\site-packages\\sklearn\\metrics\\cluster\\_unsupervised.py:231\u001b[0m, in \u001b[0;36msilhouette_samples\u001b[1;34m(X, labels, metric, **kwds)\u001b[0m\n\u001b[0;32m    229\u001b[0m n_samples \u001b[39m=\u001b[39m \u001b[39mlen\u001b[39m(labels)\n\u001b[0;32m    230\u001b[0m label_freqs \u001b[39m=\u001b[39m np\u001b[39m.\u001b[39mbincount(labels)\n\u001b[1;32m--> 231\u001b[0m check_number_of_labels(\u001b[39mlen\u001b[39;49m(le\u001b[39m.\u001b[39;49mclasses_), n_samples)\n\u001b[0;32m    233\u001b[0m kwds[\u001b[39m\"\u001b[39m\u001b[39mmetric\u001b[39m\u001b[39m\"\u001b[39m] \u001b[39m=\u001b[39m metric\n\u001b[0;32m    234\u001b[0m reduce_func \u001b[39m=\u001b[39m functools\u001b[39m.\u001b[39mpartial(\n\u001b[0;32m    235\u001b[0m     _silhouette_reduce, labels\u001b[39m=\u001b[39mlabels, label_freqs\u001b[39m=\u001b[39mlabel_freqs\n\u001b[0;32m    236\u001b[0m )\n",
            "File \u001b[1;32mc:\\Users\\HP\\AppData\\Local\\Programs\\Python\\Python311\\Lib\\site-packages\\sklearn\\metrics\\cluster\\_unsupervised.py:33\u001b[0m, in \u001b[0;36mcheck_number_of_labels\u001b[1;34m(n_labels, n_samples)\u001b[0m\n\u001b[0;32m     22\u001b[0m \u001b[39m\"\"\"Check that number of labels are valid.\u001b[39;00m\n\u001b[0;32m     23\u001b[0m \n\u001b[0;32m     24\u001b[0m \u001b[39mParameters\u001b[39;00m\n\u001b[1;32m   (...)\u001b[0m\n\u001b[0;32m     30\u001b[0m \u001b[39m    Number of samples.\u001b[39;00m\n\u001b[0;32m     31\u001b[0m \u001b[39m\"\"\"\u001b[39;00m\n\u001b[0;32m     32\u001b[0m \u001b[39mif\u001b[39;00m \u001b[39mnot\u001b[39;00m \u001b[39m1\u001b[39m \u001b[39m<\u001b[39m n_labels \u001b[39m<\u001b[39m n_samples:\n\u001b[1;32m---> 33\u001b[0m     \u001b[39mraise\u001b[39;00m \u001b[39mValueError\u001b[39;00m(\n\u001b[0;32m     34\u001b[0m         \u001b[39m\"\u001b[39m\u001b[39mNumber of labels is \u001b[39m\u001b[39m%d\u001b[39;00m\u001b[39m. Valid values are 2 to n_samples - 1 (inclusive)\u001b[39m\u001b[39m\"\u001b[39m\n\u001b[0;32m     35\u001b[0m         \u001b[39m%\u001b[39m n_labels\n\u001b[0;32m     36\u001b[0m     )\n",
            "\u001b[1;31mValueError\u001b[0m: Number of labels is 1. Valid values are 2 to n_samples - 1 (inclusive)"
          ]
        }
      ],
      "source": [
        "# Lets check silhouette_score on OPTICS\n",
        "print(metrics.silhouette_score(RFM_norm1,labels))"
      ]
    },
    {
      "cell_type": "markdown",
      "metadata": {
        "id": "uPDlxGzKjptP"
      },
      "source": [
        "The silhouette_score here better than Mean Shift, but still Kmeans has better score so far."
      ]
    },
    {
      "cell_type": "markdown",
      "metadata": {
        "id": "pXN14ODhjptP"
      },
      "source": [
        "## Spectral Clustering\n",
        "\n",
        "<p style='text-align: right;'> 10 points</p>\n",
        "\n",
        "\n",
        "\n",
        "Reference doc: https://scikit-learn.org/stable/modules/generated/sklearn.cluster.SpectralClustering.html\n",
        "\n",
        "Reference video: \n",
        "\n",
        "spectral clustering has become one of the most popular modern clustering algorithms. It is simple to implement, can be solved efficiently by standard linear algebra software, and very often outperforms traditional clustering algorithms such as the k-means algorithm.\n",
        "\n",
        "“Spectral clustering is one of the most popular forms of multivariate statistical analysis” ‘Spectral Clustering uses the connectivity approach to clustering’, wherein communities of nodes (i.e. data points) that are connected or immediately next to each other are identified in a graph. \n",
        "The nodes are then mapped to a low-dimensional space that can be easily segregated to form clusters. Spectral Clustering uses information from the eigenvalues (spectrum) of special matrices (i.e. Affinity Matrix, Degree Matrix and Laplacian Matrix) derived from the graph or the data set.\n",
        "\n",
        "When compared with other algorithms, it is computationally fast for sparse datasets of several thousand data points. You don’t need the actual dataset to work with. Distance or Though it might be costly to compute for large datasets as eigenvalues and eigenvectors need to be computed and then clustering is to be done. But the algorithms try to cut the cost. The number of clusters (k) needs to be fixed before starting the procedure."
      ]
    },
    {
      "cell_type": "code",
      "execution_count": 82,
      "metadata": {
        "colab": {
          "base_uri": "https://localhost:8080/"
        },
        "id": "1WWzIDp8jptP",
        "outputId": "195f2505-8590-468c-b46a-da5ba3d4fc32"
      },
      "outputs": [
        {
          "name": "stdout",
          "output_type": "stream",
          "text": [
            "[0 1 2 3]\n"
          ]
        }
      ],
      "source": [
        "# import Spectral Clustering\n",
        "from sklearn.cluster import SpectralClustering\n",
        "\n",
        "#Instantiate SpectralClustering with number of clusters as 4 and fit the same with RFM_norm2\n",
        "sc=SpectralClustering(n_clusters=4).fit(RFM_norm2)\n",
        "\n",
        "\n",
        "#print dustinct unique values\n",
        "print(np.unique(sc.labels_))\n",
        "\n",
        "\n",
        "\n"
      ]
    },
    {
      "cell_type": "code",
      "execution_count": 83,
      "metadata": {
        "colab": {
          "base_uri": "https://localhost:8080/",
          "height": 374
        },
        "id": "a1nDW0IijptP",
        "outputId": "53bf9902-cfb6-4b8e-bddd-0476dc4d89ba"
      },
      "outputs": [
        {
          "data": {
            "image/png": "[encoded data removed]",
            "text/plain": [
              "<Figure size 1000x600 with 1 Axes>"
            ]
          },
          "metadata": {},
          "output_type": "display_data"
        }
      ],
      "source": [
        "# fit_predict above model on RFM_norm2\n",
        "pred= sc.fit_predict(RFM_norm2)\n",
        " \n",
        "fig =plt.figure(figsize=(10,6))\n",
        "# Plotting the predicted clusters keeping x and y as RFM_norm1[\"Frequency\"] and RFM_norm1[\"Amount\"] and c as pred\n",
        "plt.scatter(RFM_norm1['Frequency'],RFM_norm1['Amount'],c=pred,cmap='rainbow',alpha=0.5,edgecolors='black')\n",
        "plt.show()\n",
        "\n"
      ]
    },
    {
      "cell_type": "markdown",
      "metadata": {
        "id": "U4InXSGYjptQ"
      },
      "source": [
        "Lets use kelbow_visualizer to get optimal value of k in SpectralClustering"
      ]
    },
    {
      "cell_type": "code",
      "execution_count": 84,
      "metadata": {
        "colab": {
          "base_uri": "https://localhost:8080/",
          "height": 376
        },
        "id": "2G2pHav9jptQ",
        "outputId": "52d13b3a-63a2-424a-e962-c810a210b29d"
      },
      "outputs": [
        {
          "data": {
            "image/png": "[encoded data removed]",
            "text/plain": [
              "<Figure size 800x550 with 2 Axes>"
            ]
          },
          "metadata": {},
          "output_type": "display_data"
        }
      ],
      "source": [
        "# kelbow_visualizer with Kmeans which has parameters random_state=42 and k range from 1 to 11\n",
        "kelbow_visualizer(SpectralClustering(random_state=42),RFM_norm1,k=(1,11))\n",
        "plt.show()"
      ]
    },
    {
      "cell_type": "code",
      "execution_count": 85,
      "metadata": {
        "colab": {
          "base_uri": "https://localhost:8080/"
        },
        "id": "zjh0auzfjptQ",
        "outputId": "4cefb1e4-afcb-42e5-b792-1fd0f0433b8a"
      },
      "outputs": [
        {
          "name": "stdout",
          "output_type": "stream",
          "text": [
            "For n_clusters = 2, silhouette score is 0.46571454821433206\n",
            "For n_clusters = 3, silhouette score is 0.4253489136629858\n",
            "For n_clusters = 4, silhouette score is 0.44928056130070615\n",
            "For n_clusters = 5, silhouette score is 0.311848997229394\n",
            "For n_clusters = 6, silhouette score is 0.274459436969246\n",
            "For n_clusters = 7, silhouette score is 0.3256677218215692\n",
            "For n_clusters = 8, silhouette score is 0.29750133563956105\n",
            "For n_clusters = 9, silhouette score is 0.30318536436229987\n",
            "For n_clusters = 10, silhouette score is 0.33121297110081904\n"
          ]
        }
      ],
      "source": [
        "# import silhouette_score and silhouette_samples\n",
        "\n",
        "from sklearn.metrics import silhouette_samples,silhouette_score\n",
        "\n",
        " \n",
        "# iterate over different number of clusters ranging from 2 to 11\n",
        "for n_clusters in range(2,11):\n",
        "#     Initialise SpectralClustering with n_clusters as n_clusters\n",
        "    sc = SpectralClustering(n_clusters=n_clusters)\n",
        "    \n",
        "    # fit predict above model on RFM_norm2\n",
        "    preds = sc.fit_predict(RFM_norm2)\n",
        "    \n",
        "#  Get silhouette_score on above prediction w.r.t RFM_norm2 and metric as euclidean\n",
        "    score =silhouette_score(RFM_norm2,preds,metric='euclidean')\n",
        "    print(f'For n_clusters = {n_clusters}, silhouette score is {score}')\n",
        "    \n",
        "    \n",
        "    "
      ]
    },
    {
      "cell_type": "markdown",
      "metadata": {
        "id": "u0ipKiVnjptQ"
      },
      "source": [
        "So from above three results i.e \n",
        "\n",
        "- Scatter plot\n",
        "- elbow plot\n",
        "- silhouette score\n",
        "\n",
        "We can conclude that according to SpectralClustering method the best k values or total optimal clusters are 4"
      ]
    },
    {
      "cell_type": "markdown",
      "metadata": {
        "id": "3eGB6icejptQ"
      },
      "source": [
        "## Gaussian Mixture Model\n",
        "\n",
        "<p style='text-align: right;'> 10 points</p>\n",
        "\n",
        "\n",
        "Reference doc: https://scikit-learn.org/stable/modules/generated/sklearn.mixture.GaussianMixture.html\n",
        "\n",
        "\n",
        "Gaussian Mixture Models (GMMs) assume that there are a certain number of Gaussian distributions, and each of these distributions represent a cluster. Hence, a Gaussian Mixture Model tends to group the data points belonging to a single distribution together.\n",
        "\n",
        "k-means only considers the mean to update the centroid while GMM takes into account the mean as well as the variance of the data\n",
        "\n",
        "\n",
        "Lets implement GMM now : refer https://www.analyticsvidhya.com/blog/2019/10/gaussian-mixture-models-clustering/ help in code\n",
        "\n",
        "Reference video below:\n"
      ]
    },
    {
      "cell_type": "markdown",
      "metadata": {
        "id": "lzghfqS82c2i"
      },
      "source": [
        "## **`Watch Video 14 : Clustering - Gaussian Mixture Models`**"
      ]
    },
    {
      "cell_type": "code",
      "execution_count": 86,
      "metadata": {
        "colab": {
          "base_uri": "https://localhost:8080/",
          "height": 374
        },
        "id": "rZmxEIKpjptQ",
        "outputId": "d73d0dbf-7c5e-4bef-dbf0-ae06292eaf46"
      },
      "outputs": [
        {
          "data": {
            "image/png": "[encoded data removed]",
            "text/plain": [
              "<Figure size 1000x600 with 1 Axes>"
            ]
          },
          "metadata": {},
          "output_type": "display_data"
        }
      ],
      "source": [
        "# import GaussianMixture from sklearn\n",
        "from sklearn.mixture import GaussianMixture\n",
        "\n",
        "\n",
        "# Instantiate GaussianMixture with random_state as 0, n_components as 3 and fit it on RFM_norm2\n",
        "gm = GaussianMixture(random_state=0,n_components=3).fit(RFM_norm2)\n",
        "\n",
        "\n",
        "#predictions from gmm\n",
        "yhat = gm.predict(RFM_norm2)\n",
        "\n",
        "\n",
        "#get unique predicted result as clusters\n",
        "clusters = np.unique(yhat)\n",
        "\n",
        "fig = plt.figure(figsize=(10, 6))\n",
        "\n",
        "# iterate over clusters\n",
        "for cluster in clusters:\n",
        "    # get row indexes for samples with this cluster (Hint: where condition with yhat==cluster)\n",
        "    row_ix = np.where(yhat==cluster)\n",
        "    \n",
        "    # create scatter of these samples (hint: Use RFM_norm2[row_ix, 0], RFM_norm2[row_ix, 1] )\n",
        "    plt.scatter(RFM_norm2[row_ix,0],RFM_norm2[row_ix, 1])\n",
        "    \n",
        "# show the plot\n",
        "\n",
        "plt.show()\n",
        "\n"
      ]
    },
    {
      "cell_type": "code",
      "execution_count": 87,
      "metadata": {
        "colab": {
          "base_uri": "https://localhost:8080/"
        },
        "id": "NRAaDNMPjptQ",
        "outputId": "717b5f29-a170-4f3b-9a82-90a28778f2ab"
      },
      "outputs": [
        {
          "data": {
            "text/plain": [
              "0.28079516214393996"
            ]
          },
          "execution_count": 87,
          "metadata": {},
          "output_type": "execute_result"
        }
      ],
      "source": [
        "# Print silhouette_score based on above prediction\n",
        "\n",
        "silhouette_score(RFM_norm2,yhat)\n",
        "\n"
      ]
    },
    {
      "cell_type": "markdown",
      "metadata": {
        "id": "o3ryANssjptR"
      },
      "source": [
        "From above plot you can see that silhouette_score far lesser compared to all other clustering algorithms we have seen till now. \n",
        "But no issues, we have total of 9 results out of 9 different clustering algorithms.\n",
        "\n",
        "Among all the algorithm the optimal clusters with best score is given my BIRCH, K-MEANS and Agglomerative Clustering methods.\n",
        "\n",
        "Well done buddy! you did a great job :)\n",
        "\n",
        "---------------------\n",
        "# Cheers ! Congrats..you have completed your Clustering challenge too!\n",
        "\n",
        "----------------\n",
        "\n",
        "# FeedBack Time\n",
        "\n",
        "We hope you’ve enjoyed this course so far. We’re committed to help you use \"AI for All\" course to its full potential, so that you have a great learning experience. And that’s why we need your help in form of a feedback here.\n",
        "\n",
        "Please fill this feedback form https://docs.google.com/forms/d/e/1FAIpQLSfjBmH0yJSSA34IhSVx4h2eDMgOAeG4Dk-yHid__NMTk3Hq5g/viewform\n"
      ]
    }
  ],
  "metadata": {
    "colab": {
      "collapsed_sections": [],
      "provenance": []
    },
    "kernelspec": {
      "display_name": "Python 3",
      "language": "python",
      "name": "python3"
    },
    "language_info": {
      "codemirror_mode": {
        "name": "ipython",
        "version": 3
      },
      "file_extension": ".py",
      "mimetype": "text/x-python",
      "name": "python",
      "nbconvert_exporter": "python",
      "pygments_lexer": "ipython3",
      "version": "3.11.0 (main, Oct 24 2022, 18:26:48) [MSC v.1933 64 bit (AMD64)]"
    },
    "latex_envs": {
      "LaTeX_envs_menu_present": true,
      "autoclose": false,
      "autocomplete": true,
      "bibliofile": "biblio.bib",
      "cite_by": "apalike",
      "current_citInitial": 1,
      "eqLabelWithNumbers": true,
      "eqNumInitial": 1,
      "hotkeys": {
        "equation": "Ctrl-E",
        "itemize": "Ctrl-I"
      },
      "labels_anchors": false,
      "latex_user_defs": false,
      "report_style_numbering": false,
      "user_envs_cfg": false
    },
    "vscode": {
      "interpreter": {
        "hash": "1f6a27bcfbe46a917dbd192f4a82657396dda26148bae633192e8d28c70725f1"
      }
    }
  },
  "nbformat": 4,
  "nbformat_minor": 0
}
